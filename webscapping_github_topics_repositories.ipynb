{
  "nbformat": 4,
  "nbformat_minor": 0,
  "metadata": {
    "colab": {
      "name": "webscapping-github-topics-repositories.ipynb",
      "provenance": [],
      "authorship_tag": "ABX9TyOtxTN+ha5QiGdADGrZ170u",
      "include_colab_link": true
    },
    "kernelspec": {
      "name": "python3",
      "display_name": "Python 3"
    },
    "language_info": {
      "name": "python"
    }
  },
  "cells": [
    {
      "cell_type": "markdown",
      "metadata": {
        "id": "view-in-github",
        "colab_type": "text"
      },
      "source": [
        "<a href=\"https://colab.research.google.com/github/Mjcherono/Webscraping_repositories_from_Github_trending_topics/blob/main/webscapping_github_topics_repositories.ipynb\" target=\"_parent\"><img src=\"https://colab.research.google.com/assets/colab-badge.svg\" alt=\"Open In Colab\"/></a>"
      ]
    },
    {
      "cell_type": "markdown",
      "metadata": {
        "id": "TOfkm23ed1Eo"
      },
      "source": [
        "Web scraping is the process of extracting and parsing data from websites in an automated fashion using a computer program. It's a useful technique for creating datasets for research and learning. Follow these steps to build a web scraping project from scratch using Python and its ecosystem of libraries:\n",
        "\n",
        "### Pick a website and describe your objective\n",
        "\n",
        "- Browse through different sites and pick on to scrape. \n",
        "\n",
        "- Check the \"Project Ideas\" section for inspiration.\n",
        "\n",
        "- Identify the information you'd like to scrape from the site. Decide the format of the output CSV file.\n",
        "\n",
        "- Summarize your project idea and outline your strategy in a Juptyer notebook. Use the \"New\" button above."
      ]
    },
    {
      "cell_type": "markdown",
      "metadata": {
        "id": "5mjXIZe0bHrH"
      },
      "source": [
        "### Use the requests library to download web pages\n",
        "\n",
        "- Inspect the website's HTML source and identify the right URLs to download.\n",
        "\n",
        "- Download and save web pages locally using the requests library.\n",
        "\n",
        "- Create a function to automate downloading for different topics/search queries.\n"
      ]
    },
    {
      "cell_type": "markdown",
      "metadata": {
        "id": "GBLG0qiCbYPh"
      },
      "source": [
        "### Use Beautiful Soup to parse and extract information\n",
        "\n",
        "- Parse and explore the structure of downloaded web pages using Beautiful soup.\n",
        "\n",
        "- Use the right properties and methods to extract the required information.\n",
        "\n",
        "- Create functions to extract from the page into lists and dictionaries.\n",
        "- (Optional) Use a REST API to acquire additional information if required."
      ]
    },
    {
      "cell_type": "markdown",
      "metadata": {
        "id": "x1Cdpo2zbgCp"
      },
      "source": [
        "### Create CSV file(s) with the extracted information\n",
        "\n",
        "- Create functions for the end-to-end process of downloading, parsing, and saving CSVs.\n",
        "\n",
        "- Execute the function with different inputs to create a dataset of CSV files.\n",
        "\n",
        "- Verify the information in the CSV files by reading them back using Pandas."
      ]
    },
    {
      "cell_type": "markdown",
      "metadata": {
        "id": "XgcHNRN8bk0n"
      },
      "source": [
        "### Document and share your work\n",
        "\n",
        "- Add proper headings and documentation in your Jupyter notebook.\n",
        "- Publish your Jupyter notebook to your Jovian profile\n",
        "- (Optional) Write a blog post about your project and share it online."
      ]
    },
    {
      "cell_type": "markdown",
      "metadata": {
        "id": "CLXEhkQIbJ6u"
      },
      "source": [
        "### Use the requests library to download web pages\n",
        "\n",
        "Inspect the website's HTML source and identify the right URLs to download.\n",
        "\n",
        "Download and save web pages locally using the requests library.\n",
        "\n",
        "Create a function to automate downloading for different topics/search queries.\n"
      ]
    },
    {
      "cell_type": "markdown",
      "metadata": {
        "id": "GpeQ8Bs8eVvh"
      },
      "source": [
        "#### **Outline**\n",
        "\n",
        "-We're going to scrape https://github.com/topics\n",
        "- We get a list of topics, for each topic we will get a topic title, topic page URL and topic description.\n",
        "- For each topic we get the top 25 repos in the topic page\n",
        "- "
      ]
    },
    {
      "cell_type": "code",
      "metadata": {
        "id": "deZFiUThZztv"
      },
      "source": [
        "# Use request library to download the data\n",
        "#! pip install requests\n"
      ],
      "execution_count": 709,
      "outputs": []
    },
    {
      "cell_type": "code",
      "metadata": {
        "id": "BkKyz7jxc8Un"
      },
      "source": [
        "import requests"
      ],
      "execution_count": 710,
      "outputs": []
    },
    {
      "cell_type": "code",
      "metadata": {
        "id": "Qai1xrHLfdyC"
      },
      "source": [
        "topics_url = 'https://github.com/topics'"
      ],
      "execution_count": 711,
      "outputs": []
    },
    {
      "cell_type": "code",
      "metadata": {
        "id": "JJawA8j6fduj"
      },
      "source": [
        "response = requests.get(topics_url)"
      ],
      "execution_count": 712,
      "outputs": []
    },
    {
      "cell_type": "code",
      "metadata": {
        "colab": {
          "base_uri": "https://localhost:8080/"
        },
        "id": "vBhD4ouufdsr",
        "outputId": "3db51447-5882-4cc1-b249-17b84aec2e3c"
      },
      "source": [
        "#check if download was successful\n",
        "#A success request is between 200-299\n",
        "\n",
        "response.status_code"
      ],
      "execution_count": 713,
      "outputs": [
        {
          "output_type": "execute_result",
          "data": {
            "text/plain": [
              "200"
            ]
          },
          "metadata": {
            "tags": []
          },
          "execution_count": 713
        }
      ]
    },
    {
      "cell_type": "code",
      "metadata": {
        "id": "_-Z5Klu8gP8t"
      },
      "source": [
        "page_contents = response.text"
      ],
      "execution_count": 714,
      "outputs": []
    },
    {
      "cell_type": "code",
      "metadata": {
        "colab": {
          "base_uri": "https://localhost:8080/",
          "height": 148
        },
        "id": "WJ_kqUk3gWoN",
        "outputId": "269e9d3c-91d3-4e25-bba5-147aeb622e37"
      },
      "source": [
        "page_contents[:1000]"
      ],
      "execution_count": 715,
      "outputs": [
        {
          "output_type": "execute_result",
          "data": {
            "application/vnd.google.colaboratory.intrinsic+json": {
              "type": "string"
            },
            "text/plain": [
              "'\\n\\n<!DOCTYPE html>\\n<html lang=\"en\" >\\n  <head>\\n    <meta charset=\"utf-8\">\\n  <link rel=\"dns-prefetch\" href=\"https://github.githubassets.com\">\\n  <link rel=\"dns-prefetch\" href=\"https://avatars.githubusercontent.com\">\\n  <link rel=\"dns-prefetch\" href=\"https://github-cloud.s3.amazonaws.com\">\\n  <link rel=\"dns-prefetch\" href=\"https://user-images.githubusercontent.com/\">\\n\\n\\n\\n  <link crossorigin=\"anonymous\" media=\"all\" integrity=\"sha512-OZSLZxbfZRavuNMaKn9S2z6nOiqb+cSXqL/eTi4TqwhiRm1fDxQpuwjViN7NzGw/nhXT4O0BZIIg0Ym7szrbpg==\" rel=\"stylesheet\" href=\"https://github.githubassets.com/assets/frameworks-39948b6716df6516afb8d31a2a7f52db.css\" />\\n  <link crossorigin=\"anonymous\" media=\"all\" integrity=\"sha512-jaRxAk/R7Eq6XXtxt2dWYc6UfgT/Jk9zYWYh4UpAt5LFRnYVaWqEM3sPhUFL3fOBmHhHoOcn4wfLkMS21Q1yaw==\" rel=\"stylesheet\" href=\"https://github.githubassets.com/assets/site-8da471024fd1ec4aba5d7b71b7675661.css\" />\\n    <link crossorigin=\"anonymous\" media=\"all\" integrity=\"sha512-9nE+XgrWtARaS0zwxOiHy2GiHph7zd3w1/JhlkltB0BJ'"
            ]
          },
          "metadata": {
            "tags": []
          },
          "execution_count": 715
        }
      ]
    },
    {
      "cell_type": "code",
      "metadata": {
        "id": "ZVwlELs5gaeI"
      },
      "source": [
        "#write page contect to a file\n",
        "with open('webpage.html','w') as f:\n",
        "  f.write(page_contents)"
      ],
      "execution_count": 716,
      "outputs": []
    },
    {
      "cell_type": "code",
      "metadata": {
        "colab": {
          "base_uri": "https://localhost:8080/"
        },
        "id": "D6IweotMgAy5",
        "outputId": "a6b4cf26-bdf7-4219-ecc8-0a5147f98986"
      },
      "source": [
        "len(response.text)"
      ],
      "execution_count": 717,
      "outputs": [
        {
          "output_type": "execute_result",
          "data": {
            "text/plain": [
              "126634"
            ]
          },
          "metadata": {
            "tags": []
          },
          "execution_count": 717
        }
      ]
    },
    {
      "cell_type": "markdown",
      "metadata": {
        "id": "p7SNGVEQhF9o"
      },
      "source": [
        "Beatiful soup"
      ]
    },
    {
      "cell_type": "code",
      "metadata": {
        "id": "iG41cH8jgAwE"
      },
      "source": [
        "#!pip install beautifulsoup4"
      ],
      "execution_count": 718,
      "outputs": []
    },
    {
      "cell_type": "code",
      "metadata": {
        "id": "lgLVWKvzgAss"
      },
      "source": [
        "from bs4 import BeautifulSoup\n",
        "\n",
        "doc = BeautifulSoup(page_contents,'html.parser')"
      ],
      "execution_count": 719,
      "outputs": []
    },
    {
      "cell_type": "code",
      "metadata": {
        "id": "0lvoia5FgArQ"
      },
      "source": [
        "selection_class = 'f3 lh-condensed mb-0 mt-1 Link--primary'\n",
        "\n",
        "topic_title_tags = doc.find_all('p',{'class': selection_class})"
      ],
      "execution_count": 720,
      "outputs": []
    },
    {
      "cell_type": "code",
      "metadata": {
        "colab": {
          "base_uri": "https://localhost:8080/"
        },
        "id": "HQAnfP1Rhox-",
        "outputId": "9e084d0d-2518-406e-8aac-0509216d9173"
      },
      "source": [
        "len(topic_title_tags)"
      ],
      "execution_count": 721,
      "outputs": [
        {
          "output_type": "execute_result",
          "data": {
            "text/plain": [
              "30"
            ]
          },
          "metadata": {
            "tags": []
          },
          "execution_count": 721
        }
      ]
    },
    {
      "cell_type": "code",
      "metadata": {
        "colab": {
          "base_uri": "https://localhost:8080/"
        },
        "id": "kcNmcbmChouM",
        "outputId": "7dc61bb8-7ecd-400a-d9b9-3b052738445b"
      },
      "source": [
        "p_tags[:5]"
      ],
      "execution_count": 722,
      "outputs": [
        {
          "output_type": "execute_result",
          "data": {
            "text/plain": [
              "[<p class=\"f3 lh-condensed mb-0 mt-1 Link--primary\">3D</p>,\n",
              " <p class=\"f3 lh-condensed mb-0 mt-1 Link--primary\">Ajax</p>,\n",
              " <p class=\"f3 lh-condensed mb-0 mt-1 Link--primary\">Algorithm</p>,\n",
              " <p class=\"f3 lh-condensed mb-0 mt-1 Link--primary\">Amp</p>,\n",
              " <p class=\"f3 lh-condensed mb-0 mt-1 Link--primary\">Android</p>]"
            ]
          },
          "metadata": {
            "tags": []
          },
          "execution_count": 722
        }
      ]
    },
    {
      "cell_type": "code",
      "metadata": {
        "id": "vR5_9m76iYwF"
      },
      "source": [
        "desc_selector = \"f5 color-text-secondary mb-0 mt-1\"\n",
        "\n",
        "topic_desc_tags = doc.find_all('p',{'class': desc_selector})"
      ],
      "execution_count": 723,
      "outputs": []
    },
    {
      "cell_type": "code",
      "metadata": {
        "colab": {
          "base_uri": "https://localhost:8080/"
        },
        "id": "VQCQTILIiYr4",
        "outputId": "dcd9682e-6ef4-4038-8f69-a2b91daaba72"
      },
      "source": [
        "topic_desc_tags[:5]"
      ],
      "execution_count": 724,
      "outputs": [
        {
          "output_type": "execute_result",
          "data": {
            "text/plain": [
              "[<p class=\"f5 color-text-secondary mb-0 mt-1\">\n",
              "               3D modeling is the process of virtually developing the surface and structure of a 3D object.\n",
              "             </p>, <p class=\"f5 color-text-secondary mb-0 mt-1\">\n",
              "               Ajax is a technique for creating interactive web applications.\n",
              "             </p>, <p class=\"f5 color-text-secondary mb-0 mt-1\">\n",
              "               Algorithms are self-contained sequences that carry out a variety of tasks.\n",
              "             </p>, <p class=\"f5 color-text-secondary mb-0 mt-1\">\n",
              "               Amp is a non-blocking concurrency framework for PHP.\n",
              "             </p>, <p class=\"f5 color-text-secondary mb-0 mt-1\">\n",
              "               Android is an operating system built by Google designed for mobile devices.\n",
              "             </p>]"
            ]
          },
          "metadata": {
            "tags": []
          },
          "execution_count": 724
        }
      ]
    },
    {
      "cell_type": "code",
      "metadata": {
        "id": "Zuu8wZm4iYpB"
      },
      "source": [
        "#To get url to topic page\n",
        "\n",
        "topic_title_tag0 = topic_title_tags[0]"
      ],
      "execution_count": 725,
      "outputs": []
    },
    {
      "cell_type": "code",
      "metadata": {
        "colab": {
          "base_uri": "https://localhost:8080/"
        },
        "id": "G4GbLw0niYly",
        "outputId": "f51ca459-ab2c-4107-cf25-3d46198e9860"
      },
      "source": [
        "topic_link_tags = doc.find_all('a',{'class': 'd-flex no-underline'})\n",
        "len(topic_link_tags)"
      ],
      "execution_count": 726,
      "outputs": [
        {
          "output_type": "execute_result",
          "data": {
            "text/plain": [
              "30"
            ]
          },
          "metadata": {
            "tags": []
          },
          "execution_count": 726
        }
      ]
    },
    {
      "cell_type": "code",
      "metadata": {
        "colab": {
          "base_uri": "https://localhost:8080/",
          "height": 35
        },
        "id": "llRyu1f7iYj1",
        "outputId": "607b7e1b-ade1-4d99-ebd8-73eb3b378d95"
      },
      "source": [
        "topic0_url = 'https://github.com' + topic_link_tags[0]['href']\n",
        "topic0_url"
      ],
      "execution_count": 727,
      "outputs": [
        {
          "output_type": "execute_result",
          "data": {
            "application/vnd.google.colaboratory.intrinsic+json": {
              "type": "string"
            },
            "text/plain": [
              "'https://github.com/topics/3d'"
            ]
          },
          "metadata": {
            "tags": []
          },
          "execution_count": 727
        }
      ]
    },
    {
      "cell_type": "code",
      "metadata": {
        "colab": {
          "base_uri": "https://localhost:8080/"
        },
        "id": "lOPvulAjiYg5",
        "outputId": "ea3a9943-d780-4351-dfa8-89ba7289b048"
      },
      "source": [
        "topic_titles = []\n",
        "\n",
        "for tag in topic_title_tags:\n",
        "  topic_titles.append(tag.text)\n",
        "\n",
        "topic_titles"
      ],
      "execution_count": 728,
      "outputs": [
        {
          "output_type": "execute_result",
          "data": {
            "text/plain": [
              "['3D',\n",
              " 'Ajax',\n",
              " 'Algorithm',\n",
              " 'Amp',\n",
              " 'Android',\n",
              " 'Angular',\n",
              " 'Ansible',\n",
              " 'API',\n",
              " 'Arduino',\n",
              " 'ASP.NET',\n",
              " 'Atom',\n",
              " 'Awesome Lists',\n",
              " 'Amazon Web Services',\n",
              " 'Azure',\n",
              " 'Babel',\n",
              " 'Bash',\n",
              " 'Bitcoin',\n",
              " 'Bootstrap',\n",
              " 'Bot',\n",
              " 'C',\n",
              " 'Chrome',\n",
              " 'Chrome extension',\n",
              " 'Command line interface',\n",
              " 'Clojure',\n",
              " 'Code quality',\n",
              " 'Code review',\n",
              " 'Compiler',\n",
              " 'Continuous integration',\n",
              " 'COVID-19',\n",
              " 'C++']"
            ]
          },
          "metadata": {
            "tags": []
          },
          "execution_count": 728
        }
      ]
    },
    {
      "cell_type": "code",
      "metadata": {
        "colab": {
          "base_uri": "https://localhost:8080/"
        },
        "id": "IgqWnooXiYes",
        "outputId": "6b426711-08b8-4f6a-f697-f6a081588f71"
      },
      "source": [
        "#topic url\n",
        "topic_urls = []\n",
        "base_url = 'https://github.com'\n",
        "\n",
        "for tag in topic_link_tags:\n",
        "  topic_urls.append(base_url + tag['href'])\n",
        "\n",
        "topic_urls"
      ],
      "execution_count": 729,
      "outputs": [
        {
          "output_type": "execute_result",
          "data": {
            "text/plain": [
              "['https://github.com/topics/3d',\n",
              " 'https://github.com/topics/ajax',\n",
              " 'https://github.com/topics/algorithm',\n",
              " 'https://github.com/topics/amphp',\n",
              " 'https://github.com/topics/android',\n",
              " 'https://github.com/topics/angular',\n",
              " 'https://github.com/topics/ansible',\n",
              " 'https://github.com/topics/api',\n",
              " 'https://github.com/topics/arduino',\n",
              " 'https://github.com/topics/aspnet',\n",
              " 'https://github.com/topics/atom',\n",
              " 'https://github.com/topics/awesome',\n",
              " 'https://github.com/topics/aws',\n",
              " 'https://github.com/topics/azure',\n",
              " 'https://github.com/topics/babel',\n",
              " 'https://github.com/topics/bash',\n",
              " 'https://github.com/topics/bitcoin',\n",
              " 'https://github.com/topics/bootstrap',\n",
              " 'https://github.com/topics/bot',\n",
              " 'https://github.com/topics/c',\n",
              " 'https://github.com/topics/chrome',\n",
              " 'https://github.com/topics/chrome-extension',\n",
              " 'https://github.com/topics/cli',\n",
              " 'https://github.com/topics/clojure',\n",
              " 'https://github.com/topics/code-quality',\n",
              " 'https://github.com/topics/code-review',\n",
              " 'https://github.com/topics/compiler',\n",
              " 'https://github.com/topics/continuous-integration',\n",
              " 'https://github.com/topics/covid-19',\n",
              " 'https://github.com/topics/cpp']"
            ]
          },
          "metadata": {
            "tags": []
          },
          "execution_count": 729
        }
      ]
    },
    {
      "cell_type": "code",
      "metadata": {
        "id": "AwV-QlG3iYbZ"
      },
      "source": [
        "#Create a csv file\n",
        "\n",
        "import pandas as pd"
      ],
      "execution_count": 730,
      "outputs": []
    },
    {
      "cell_type": "code",
      "metadata": {
        "colab": {
          "base_uri": "https://localhost:8080/",
          "height": 910
        },
        "id": "0mB-9oh8n9B4",
        "outputId": "43760f38-2dd0-4561-b3cd-27cc78b9ddf8"
      },
      "source": [
        "topics_dict = {\n",
        "    'title': topic_titles,\n",
        "    'description': topic_desc_tags,\n",
        "    'url':topic_urls\n",
        "}\n",
        "topics_df = pd.DataFrame(topics_dict)\n",
        "topics_df"
      ],
      "execution_count": 731,
      "outputs": [
        {
          "output_type": "execute_result",
          "data": {
            "text/html": [
              "<div>\n",
              "<style scoped>\n",
              "    .dataframe tbody tr th:only-of-type {\n",
              "        vertical-align: middle;\n",
              "    }\n",
              "\n",
              "    .dataframe tbody tr th {\n",
              "        vertical-align: top;\n",
              "    }\n",
              "\n",
              "    .dataframe thead th {\n",
              "        text-align: right;\n",
              "    }\n",
              "</style>\n",
              "<table border=\"1\" class=\"dataframe\">\n",
              "  <thead>\n",
              "    <tr style=\"text-align: right;\">\n",
              "      <th></th>\n",
              "      <th>title</th>\n",
              "      <th>description</th>\n",
              "      <th>url</th>\n",
              "    </tr>\n",
              "  </thead>\n",
              "  <tbody>\n",
              "    <tr>\n",
              "      <th>0</th>\n",
              "      <td>3D</td>\n",
              "      <td>[\\n              3D modeling is the process of...</td>\n",
              "      <td>https://github.com/topics/3d</td>\n",
              "    </tr>\n",
              "    <tr>\n",
              "      <th>1</th>\n",
              "      <td>Ajax</td>\n",
              "      <td>[\\n              Ajax is a technique for creat...</td>\n",
              "      <td>https://github.com/topics/ajax</td>\n",
              "    </tr>\n",
              "    <tr>\n",
              "      <th>2</th>\n",
              "      <td>Algorithm</td>\n",
              "      <td>[\\n              Algorithms are self-contained...</td>\n",
              "      <td>https://github.com/topics/algorithm</td>\n",
              "    </tr>\n",
              "    <tr>\n",
              "      <th>3</th>\n",
              "      <td>Amp</td>\n",
              "      <td>[\\n              Amp is a non-blocking concurr...</td>\n",
              "      <td>https://github.com/topics/amphp</td>\n",
              "    </tr>\n",
              "    <tr>\n",
              "      <th>4</th>\n",
              "      <td>Android</td>\n",
              "      <td>[\\n              Android is an operating syste...</td>\n",
              "      <td>https://github.com/topics/android</td>\n",
              "    </tr>\n",
              "    <tr>\n",
              "      <th>5</th>\n",
              "      <td>Angular</td>\n",
              "      <td>[\\n              Angular is an open source web...</td>\n",
              "      <td>https://github.com/topics/angular</td>\n",
              "    </tr>\n",
              "    <tr>\n",
              "      <th>6</th>\n",
              "      <td>Ansible</td>\n",
              "      <td>[\\n              Ansible is a simple and power...</td>\n",
              "      <td>https://github.com/topics/ansible</td>\n",
              "    </tr>\n",
              "    <tr>\n",
              "      <th>7</th>\n",
              "      <td>API</td>\n",
              "      <td>[\\n              An API (Application Programmi...</td>\n",
              "      <td>https://github.com/topics/api</td>\n",
              "    </tr>\n",
              "    <tr>\n",
              "      <th>8</th>\n",
              "      <td>Arduino</td>\n",
              "      <td>[\\n              Arduino is an open source har...</td>\n",
              "      <td>https://github.com/topics/arduino</td>\n",
              "    </tr>\n",
              "    <tr>\n",
              "      <th>9</th>\n",
              "      <td>ASP.NET</td>\n",
              "      <td>[\\n              ASP.NET is a web framework fo...</td>\n",
              "      <td>https://github.com/topics/aspnet</td>\n",
              "    </tr>\n",
              "    <tr>\n",
              "      <th>10</th>\n",
              "      <td>Atom</td>\n",
              "      <td>[\\n              Atom is a open source text ed...</td>\n",
              "      <td>https://github.com/topics/atom</td>\n",
              "    </tr>\n",
              "    <tr>\n",
              "      <th>11</th>\n",
              "      <td>Awesome Lists</td>\n",
              "      <td>[\\n              An awesome list is a list of ...</td>\n",
              "      <td>https://github.com/topics/awesome</td>\n",
              "    </tr>\n",
              "    <tr>\n",
              "      <th>12</th>\n",
              "      <td>Amazon Web Services</td>\n",
              "      <td>[\\n              Amazon Web Services provides ...</td>\n",
              "      <td>https://github.com/topics/aws</td>\n",
              "    </tr>\n",
              "    <tr>\n",
              "      <th>13</th>\n",
              "      <td>Azure</td>\n",
              "      <td>[\\n              Azure is a cloud computing se...</td>\n",
              "      <td>https://github.com/topics/azure</td>\n",
              "    </tr>\n",
              "    <tr>\n",
              "      <th>14</th>\n",
              "      <td>Babel</td>\n",
              "      <td>[\\n              Babel is a compiler for writi...</td>\n",
              "      <td>https://github.com/topics/babel</td>\n",
              "    </tr>\n",
              "    <tr>\n",
              "      <th>15</th>\n",
              "      <td>Bash</td>\n",
              "      <td>[\\n              Bash is a shell and command l...</td>\n",
              "      <td>https://github.com/topics/bash</td>\n",
              "    </tr>\n",
              "    <tr>\n",
              "      <th>16</th>\n",
              "      <td>Bitcoin</td>\n",
              "      <td>[\\n              Bitcoin is a cryptocurrency d...</td>\n",
              "      <td>https://github.com/topics/bitcoin</td>\n",
              "    </tr>\n",
              "    <tr>\n",
              "      <th>17</th>\n",
              "      <td>Bootstrap</td>\n",
              "      <td>[\\n              Bootstrap is an HTML, CSS, an...</td>\n",
              "      <td>https://github.com/topics/bootstrap</td>\n",
              "    </tr>\n",
              "    <tr>\n",
              "      <th>18</th>\n",
              "      <td>Bot</td>\n",
              "      <td>[\\n              A bot is an application that ...</td>\n",
              "      <td>https://github.com/topics/bot</td>\n",
              "    </tr>\n",
              "    <tr>\n",
              "      <th>19</th>\n",
              "      <td>C</td>\n",
              "      <td>[\\n              C is a general purpose progra...</td>\n",
              "      <td>https://github.com/topics/c</td>\n",
              "    </tr>\n",
              "    <tr>\n",
              "      <th>20</th>\n",
              "      <td>Chrome</td>\n",
              "      <td>[\\n              Chrome is a web browser from ...</td>\n",
              "      <td>https://github.com/topics/chrome</td>\n",
              "    </tr>\n",
              "    <tr>\n",
              "      <th>21</th>\n",
              "      <td>Chrome extension</td>\n",
              "      <td>[\\n              Google Chrome Extensions are ...</td>\n",
              "      <td>https://github.com/topics/chrome-extension</td>\n",
              "    </tr>\n",
              "    <tr>\n",
              "      <th>22</th>\n",
              "      <td>Command line interface</td>\n",
              "      <td>[\\n              A CLI, or command-line interf...</td>\n",
              "      <td>https://github.com/topics/cli</td>\n",
              "    </tr>\n",
              "    <tr>\n",
              "      <th>23</th>\n",
              "      <td>Clojure</td>\n",
              "      <td>[\\n              Clojure is a dynamic, general...</td>\n",
              "      <td>https://github.com/topics/clojure</td>\n",
              "    </tr>\n",
              "    <tr>\n",
              "      <th>24</th>\n",
              "      <td>Code quality</td>\n",
              "      <td>[\\n              Automate your code review wit...</td>\n",
              "      <td>https://github.com/topics/code-quality</td>\n",
              "    </tr>\n",
              "    <tr>\n",
              "      <th>25</th>\n",
              "      <td>Code review</td>\n",
              "      <td>[\\n              Ensure your code meets qualit...</td>\n",
              "      <td>https://github.com/topics/code-review</td>\n",
              "    </tr>\n",
              "    <tr>\n",
              "      <th>26</th>\n",
              "      <td>Compiler</td>\n",
              "      <td>[\\n              Compilers are software that t...</td>\n",
              "      <td>https://github.com/topics/compiler</td>\n",
              "    </tr>\n",
              "    <tr>\n",
              "      <th>27</th>\n",
              "      <td>Continuous integration</td>\n",
              "      <td>[\\n              Automatically build and test ...</td>\n",
              "      <td>https://github.com/topics/continuous-integration</td>\n",
              "    </tr>\n",
              "    <tr>\n",
              "      <th>28</th>\n",
              "      <td>COVID-19</td>\n",
              "      <td>[\\n              The coronavirus disease 2019 ...</td>\n",
              "      <td>https://github.com/topics/covid-19</td>\n",
              "    </tr>\n",
              "    <tr>\n",
              "      <th>29</th>\n",
              "      <td>C++</td>\n",
              "      <td>[\\n              C++ is a general purpose and ...</td>\n",
              "      <td>https://github.com/topics/cpp</td>\n",
              "    </tr>\n",
              "  </tbody>\n",
              "</table>\n",
              "</div>"
            ],
            "text/plain": [
              "                     title  ...                                               url\n",
              "0                       3D  ...                      https://github.com/topics/3d\n",
              "1                     Ajax  ...                    https://github.com/topics/ajax\n",
              "2                Algorithm  ...               https://github.com/topics/algorithm\n",
              "3                      Amp  ...                   https://github.com/topics/amphp\n",
              "4                  Android  ...                 https://github.com/topics/android\n",
              "5                  Angular  ...                 https://github.com/topics/angular\n",
              "6                  Ansible  ...                 https://github.com/topics/ansible\n",
              "7                      API  ...                     https://github.com/topics/api\n",
              "8                  Arduino  ...                 https://github.com/topics/arduino\n",
              "9                  ASP.NET  ...                  https://github.com/topics/aspnet\n",
              "10                    Atom  ...                    https://github.com/topics/atom\n",
              "11           Awesome Lists  ...                 https://github.com/topics/awesome\n",
              "12     Amazon Web Services  ...                     https://github.com/topics/aws\n",
              "13                   Azure  ...                   https://github.com/topics/azure\n",
              "14                   Babel  ...                   https://github.com/topics/babel\n",
              "15                    Bash  ...                    https://github.com/topics/bash\n",
              "16                 Bitcoin  ...                 https://github.com/topics/bitcoin\n",
              "17               Bootstrap  ...               https://github.com/topics/bootstrap\n",
              "18                     Bot  ...                     https://github.com/topics/bot\n",
              "19                       C  ...                       https://github.com/topics/c\n",
              "20                  Chrome  ...                  https://github.com/topics/chrome\n",
              "21        Chrome extension  ...        https://github.com/topics/chrome-extension\n",
              "22  Command line interface  ...                     https://github.com/topics/cli\n",
              "23                 Clojure  ...                 https://github.com/topics/clojure\n",
              "24            Code quality  ...            https://github.com/topics/code-quality\n",
              "25             Code review  ...             https://github.com/topics/code-review\n",
              "26                Compiler  ...                https://github.com/topics/compiler\n",
              "27  Continuous integration  ...  https://github.com/topics/continuous-integration\n",
              "28                COVID-19  ...                https://github.com/topics/covid-19\n",
              "29                     C++  ...                     https://github.com/topics/cpp\n",
              "\n",
              "[30 rows x 3 columns]"
            ]
          },
          "metadata": {
            "tags": []
          },
          "execution_count": 731
        }
      ]
    },
    {
      "cell_type": "markdown",
      "metadata": {
        "id": "2VxDjg6DpenY"
      },
      "source": [
        "#### Create CSV with the extracted info"
      ]
    },
    {
      "cell_type": "code",
      "metadata": {
        "id": "bhhW7zGfn86L"
      },
      "source": [
        "topics_df.to_csv('topics.sv',index=None)"
      ],
      "execution_count": 732,
      "outputs": []
    },
    {
      "cell_type": "markdown",
      "metadata": {
        "id": "7VeU4CICp8i8"
      },
      "source": [
        "#### Getting Information out of a topic page URL"
      ]
    },
    {
      "cell_type": "code",
      "metadata": {
        "id": "8AfCEuCNn82-"
      },
      "source": [
        "topic_page_url = topic_urls[0]"
      ],
      "execution_count": 733,
      "outputs": []
    },
    {
      "cell_type": "code",
      "metadata": {
        "colab": {
          "base_uri": "https://localhost:8080/",
          "height": 35
        },
        "id": "HuB562RwiYZK",
        "outputId": "6164dc3d-ebb1-4fed-bc1e-84efd461fb14"
      },
      "source": [
        "topic_page_url"
      ],
      "execution_count": 734,
      "outputs": [
        {
          "output_type": "execute_result",
          "data": {
            "application/vnd.google.colaboratory.intrinsic+json": {
              "type": "string"
            },
            "text/plain": [
              "'https://github.com/topics/3d'"
            ]
          },
          "metadata": {
            "tags": []
          },
          "execution_count": 734
        }
      ]
    },
    {
      "cell_type": "code",
      "metadata": {
        "id": "3gcWM12JiYV5"
      },
      "source": [
        "response = requests.get(topic_page_url)"
      ],
      "execution_count": 735,
      "outputs": []
    },
    {
      "cell_type": "code",
      "metadata": {
        "colab": {
          "base_uri": "https://localhost:8080/"
        },
        "id": "AfTZpaiKiYUE",
        "outputId": "ac5edbf6-c7d9-4210-9658-73fa29d8e38f"
      },
      "source": [
        "response.status_code"
      ],
      "execution_count": 736,
      "outputs": [
        {
          "output_type": "execute_result",
          "data": {
            "text/plain": [
              "200"
            ]
          },
          "metadata": {
            "tags": []
          },
          "execution_count": 736
        }
      ]
    },
    {
      "cell_type": "code",
      "metadata": {
        "id": "9egjwiqLqawp"
      },
      "source": [
        "topic_doc =BeautifulSoup(response.text,'html.parser')\n"
      ],
      "execution_count": 737,
      "outputs": []
    },
    {
      "cell_type": "code",
      "metadata": {
        "id": "sGMfbbaHqar3"
      },
      "source": [
        "#Usernames\n",
        "h1_selection_class = \"f3 color-text-secondary text-normal lh-condensed\"\n",
        "\n",
        "repo_tags = topic_doc.find_all('h1',{'class':h1_selection_class})"
      ],
      "execution_count": 738,
      "outputs": []
    },
    {
      "cell_type": "code",
      "metadata": {
        "colab": {
          "base_uri": "https://localhost:8080/"
        },
        "id": "Boaa7_3sqapD",
        "outputId": "f87dd2bb-f19a-4b8e-b037-25cfcd3a47ba"
      },
      "source": [
        "len(repo_tags)"
      ],
      "execution_count": 739,
      "outputs": [
        {
          "output_type": "execute_result",
          "data": {
            "text/plain": [
              "30"
            ]
          },
          "metadata": {
            "tags": []
          },
          "execution_count": 739
        }
      ]
    },
    {
      "cell_type": "code",
      "metadata": {
        "colab": {
          "base_uri": "https://localhost:8080/",
          "height": 35
        },
        "id": "PtZbVR_gqalf",
        "outputId": "c8425063-dfcf-449b-e1bd-6dea3d508fd7"
      },
      "source": [
        "a_tags = repo_tags[0].find_all('a')\n",
        "a_tags[0].text.strip()"
      ],
      "execution_count": 740,
      "outputs": [
        {
          "output_type": "execute_result",
          "data": {
            "application/vnd.google.colaboratory.intrinsic+json": {
              "type": "string"
            },
            "text/plain": [
              "'mrdoob'"
            ]
          },
          "metadata": {
            "tags": []
          },
          "execution_count": 740
        }
      ]
    },
    {
      "cell_type": "code",
      "metadata": {
        "colab": {
          "base_uri": "https://localhost:8080/",
          "height": 35
        },
        "id": "bAZVxnZmqaju",
        "outputId": "1b2dd681-db16-45bd-b115-49eef1853dbb"
      },
      "source": [
        "a_tags[1].text.strip()"
      ],
      "execution_count": 741,
      "outputs": [
        {
          "output_type": "execute_result",
          "data": {
            "application/vnd.google.colaboratory.intrinsic+json": {
              "type": "string"
            },
            "text/plain": [
              "'three.js'"
            ]
          },
          "metadata": {
            "tags": []
          },
          "execution_count": 741
        }
      ]
    },
    {
      "cell_type": "code",
      "metadata": {
        "colab": {
          "base_uri": "https://localhost:8080/",
          "height": 35
        },
        "id": "_awVDQiFs_k5",
        "outputId": "763a73a7-6bc9-476e-c207-7f67079bbf93"
      },
      "source": [
        "#Repo url for first topic\n",
        "base_url = 'https://github.com'\n",
        "\n",
        "repo_url = base_url + a_tags[1]['href']\n",
        "repo_url"
      ],
      "execution_count": 742,
      "outputs": [
        {
          "output_type": "execute_result",
          "data": {
            "application/vnd.google.colaboratory.intrinsic+json": {
              "type": "string"
            },
            "text/plain": [
              "'https://github.com/mrdoob/three.js'"
            ]
          },
          "metadata": {
            "tags": []
          },
          "execution_count": 742
        }
      ]
    },
    {
      "cell_type": "code",
      "metadata": {
        "id": "j-S8j3rss_hQ"
      },
      "source": [
        "#Number of stars\n",
        "star_tags = topic_doc.find_all('a',{'class':\"social-count float-none\"})"
      ],
      "execution_count": 743,
      "outputs": []
    },
    {
      "cell_type": "code",
      "metadata": {
        "colab": {
          "base_uri": "https://localhost:8080/"
        },
        "id": "ESTkYPRCs_fJ",
        "outputId": "be0a9b81-23e7-485c-a086-f802adeedaf9"
      },
      "source": [
        "len(star_tags)"
      ],
      "execution_count": 744,
      "outputs": [
        {
          "output_type": "execute_result",
          "data": {
            "text/plain": [
              "30"
            ]
          },
          "metadata": {
            "tags": []
          },
          "execution_count": 744
        }
      ]
    },
    {
      "cell_type": "code",
      "metadata": {
        "colab": {
          "base_uri": "https://localhost:8080/",
          "height": 35
        },
        "id": "-tXY9q5-qagb",
        "outputId": "00a6e67c-397e-4f4f-c479-08105d5d7668"
      },
      "source": [
        "star_tags[0].text.strip()"
      ],
      "execution_count": 745,
      "outputs": [
        {
          "output_type": "execute_result",
          "data": {
            "application/vnd.google.colaboratory.intrinsic+json": {
              "type": "string"
            },
            "text/plain": [
              "'69.7k'"
            ]
          },
          "metadata": {
            "tags": []
          },
          "execution_count": 745
        }
      ]
    },
    {
      "cell_type": "code",
      "metadata": {
        "id": "5pHo7rGfqaes"
      },
      "source": [
        "#convert to number\n",
        "def parse_star_count(stars_str):\n",
        "  stars_str = stars_str.strip()\n",
        "  if stars_str[-1] == 'k':\n",
        "   return int(float(stars_str[:-1])*1000)\n",
        "  return int(stars_str)"
      ],
      "execution_count": 746,
      "outputs": []
    },
    {
      "cell_type": "code",
      "metadata": {
        "colab": {
          "base_uri": "https://localhost:8080/"
        },
        "id": "QynO2_a6vSmb",
        "outputId": "f66be5e2-4152-4a25-f2dd-86011c2c93bc"
      },
      "source": [
        "parse_star_count(star_tags[0].text.strip())"
      ],
      "execution_count": 747,
      "outputs": [
        {
          "output_type": "execute_result",
          "data": {
            "text/plain": [
              "69700"
            ]
          },
          "metadata": {
            "tags": []
          },
          "execution_count": 747
        }
      ]
    },
    {
      "cell_type": "code",
      "metadata": {
        "id": "NbkNGUifvShD"
      },
      "source": [
        "def get_repo_info(h1_tag, star_tag):\n",
        "#returns all the required info about the repository\n",
        "  a_tags = h1_tag.find_all('a')\n",
        "  username = a_tags[0].text.strip()\n",
        "  repo_name = a_tags[1].text.strip()\n",
        "  repo_url = base_url + a_tags[1]['href']\n",
        "  stars = parse_star_count(star_tags[0].text.strip())\n",
        "  return username, repo_name, stars, repo_url"
      ],
      "execution_count": 748,
      "outputs": []
    },
    {
      "cell_type": "code",
      "metadata": {
        "colab": {
          "base_uri": "https://localhost:8080/"
        },
        "id": "QiYdzYnlvSd6",
        "outputId": "656c94bf-bb7e-4e59-e0d0-436ec6886720"
      },
      "source": [
        "#first one\n",
        "get_repo_info(repo_tags[0],star_tags[0])"
      ],
      "execution_count": 749,
      "outputs": [
        {
          "output_type": "execute_result",
          "data": {
            "text/plain": [
              "('mrdoob', 'three.js', 69700, 'https://github.com/mrdoob/three.js')"
            ]
          },
          "metadata": {
            "tags": []
          },
          "execution_count": 749
        }
      ]
    },
    {
      "cell_type": "code",
      "metadata": {
        "id": "_9LoU7FtvSa7"
      },
      "source": [
        "#get info for everything\n",
        "topic_repos_dict = {\n",
        "    'username':[],\n",
        "    'repo_name':[],\n",
        "    'stars':[],\n",
        "    'repo_url':[]\n",
        "\n",
        "}\n",
        "\n",
        "for i in range(len(repo_tags)):\n",
        "    repo_info = get_repo_info(repo_tags[i], star_tags[i])\n",
        "    topic_repos_dict['username'].append(repo_info[0])\n",
        "    topic_repos_dict['repo_name'].append(repo_info[1])\n",
        "    topic_repos_dict['stars'].append(repo_info[2])\n",
        "    topic_repos_dict['repo_url'].append(repo_info[3])\n",
        "\n"
      ],
      "execution_count": 750,
      "outputs": []
    },
    {
      "cell_type": "code",
      "metadata": {
        "colab": {
          "base_uri": "https://localhost:8080/"
        },
        "id": "W5RiE4b5zRfz",
        "outputId": "8272f441-ceb6-4b10-a4aa-2132cdc340a0"
      },
      "source": [
        "topic_repos_dict"
      ],
      "execution_count": 751,
      "outputs": [
        {
          "output_type": "execute_result",
          "data": {
            "text/plain": [
              "{'repo_name': ['three.js',\n",
              "  'libgdx',\n",
              "  'Babylon.js',\n",
              "  'react-three-fiber',\n",
              "  'aframe',\n",
              "  'tinyrenderer',\n",
              "  'FreeCAD',\n",
              "  'zdog',\n",
              "  '3d-game-shaders-for-beginners',\n",
              "  'cesium',\n",
              "  'SpaceshipGenerator',\n",
              "  '3D-Machine-Learning',\n",
              "  'spritejs',\n",
              "  'tensorspace',\n",
              "  'webglstudio.js',\n",
              "  'Open3D',\n",
              "  'vrn',\n",
              "  'PRNet',\n",
              "  'openscad',\n",
              "  'BlenderGIS',\n",
              "  'tinyraytracer',\n",
              "  'magnum',\n",
              "  '3DDFA',\n",
              "  'webgl-fundamentals',\n",
              "  'isometric-contributions',\n",
              "  'model-viewer',\n",
              "  'blender',\n",
              "  'L7',\n",
              "  'claygl',\n",
              "  'tinyobjloader'],\n",
              " 'repo_url': ['https://github.com/mrdoob/three.js',\n",
              "  'https://github.com/libgdx/libgdx',\n",
              "  'https://github.com/BabylonJS/Babylon.js',\n",
              "  'https://github.com/pmndrs/react-three-fiber',\n",
              "  'https://github.com/aframevr/aframe',\n",
              "  'https://github.com/ssloy/tinyrenderer',\n",
              "  'https://github.com/FreeCAD/FreeCAD',\n",
              "  'https://github.com/metafizzy/zdog',\n",
              "  'https://github.com/lettier/3d-game-shaders-for-beginners',\n",
              "  'https://github.com/CesiumGS/cesium',\n",
              "  'https://github.com/a1studmuffin/SpaceshipGenerator',\n",
              "  'https://github.com/timzhang642/3D-Machine-Learning',\n",
              "  'https://github.com/spritejs/spritejs',\n",
              "  'https://github.com/tensorspace-team/tensorspace',\n",
              "  'https://github.com/jagenjo/webglstudio.js',\n",
              "  'https://github.com/intel-isl/Open3D',\n",
              "  'https://github.com/AaronJackson/vrn',\n",
              "  'https://github.com/YadiraF/PRNet',\n",
              "  'https://github.com/openscad/openscad',\n",
              "  'https://github.com/domlysz/BlenderGIS',\n",
              "  'https://github.com/ssloy/tinyraytracer',\n",
              "  'https://github.com/mosra/magnum',\n",
              "  'https://github.com/cleardusk/3DDFA',\n",
              "  'https://github.com/gfxfundamentals/webgl-fundamentals',\n",
              "  'https://github.com/jasonlong/isometric-contributions',\n",
              "  'https://github.com/google/model-viewer',\n",
              "  'https://github.com/blender/blender',\n",
              "  'https://github.com/antvis/L7',\n",
              "  'https://github.com/pissang/claygl',\n",
              "  'https://github.com/tinyobjloader/tinyobjloader'],\n",
              " 'stars': [69700,\n",
              "  69700,\n",
              "  69700,\n",
              "  69700,\n",
              "  69700,\n",
              "  69700,\n",
              "  69700,\n",
              "  69700,\n",
              "  69700,\n",
              "  69700,\n",
              "  69700,\n",
              "  69700,\n",
              "  69700,\n",
              "  69700,\n",
              "  69700,\n",
              "  69700,\n",
              "  69700,\n",
              "  69700,\n",
              "  69700,\n",
              "  69700,\n",
              "  69700,\n",
              "  69700,\n",
              "  69700,\n",
              "  69700,\n",
              "  69700,\n",
              "  69700,\n",
              "  69700,\n",
              "  69700,\n",
              "  69700,\n",
              "  69700],\n",
              " 'username': ['mrdoob',\n",
              "  'libgdx',\n",
              "  'BabylonJS',\n",
              "  'pmndrs',\n",
              "  'aframevr',\n",
              "  'ssloy',\n",
              "  'FreeCAD',\n",
              "  'metafizzy',\n",
              "  'lettier',\n",
              "  'CesiumGS',\n",
              "  'a1studmuffin',\n",
              "  'timzhang642',\n",
              "  'spritejs',\n",
              "  'tensorspace-team',\n",
              "  'jagenjo',\n",
              "  'intel-isl',\n",
              "  'AaronJackson',\n",
              "  'YadiraF',\n",
              "  'openscad',\n",
              "  'domlysz',\n",
              "  'ssloy',\n",
              "  'mosra',\n",
              "  'cleardusk',\n",
              "  'gfxfundamentals',\n",
              "  'jasonlong',\n",
              "  'google',\n",
              "  'blender',\n",
              "  'antvis',\n",
              "  'pissang',\n",
              "  'tinyobjloader']}"
            ]
          },
          "metadata": {
            "tags": []
          },
          "execution_count": 751
        }
      ]
    },
    {
      "cell_type": "code",
      "metadata": {
        "id": "OzY-RC-ZzRbN"
      },
      "source": [
        "#to dataframe\n",
        "\n",
        "topic_repos_df = pd.DataFrame(topic_repos_dict)"
      ],
      "execution_count": 752,
      "outputs": []
    },
    {
      "cell_type": "code",
      "metadata": {
        "colab": {
          "base_uri": "https://localhost:8080/",
          "height": 910
        },
        "id": "49QlsQ6qzRZD",
        "outputId": "c52db160-6168-4f9b-af12-7ac28fc4d2c1"
      },
      "source": [
        "topic_repos_df"
      ],
      "execution_count": 753,
      "outputs": [
        {
          "output_type": "execute_result",
          "data": {
            "text/html": [
              "<div>\n",
              "<style scoped>\n",
              "    .dataframe tbody tr th:only-of-type {\n",
              "        vertical-align: middle;\n",
              "    }\n",
              "\n",
              "    .dataframe tbody tr th {\n",
              "        vertical-align: top;\n",
              "    }\n",
              "\n",
              "    .dataframe thead th {\n",
              "        text-align: right;\n",
              "    }\n",
              "</style>\n",
              "<table border=\"1\" class=\"dataframe\">\n",
              "  <thead>\n",
              "    <tr style=\"text-align: right;\">\n",
              "      <th></th>\n",
              "      <th>username</th>\n",
              "      <th>repo_name</th>\n",
              "      <th>stars</th>\n",
              "      <th>repo_url</th>\n",
              "    </tr>\n",
              "  </thead>\n",
              "  <tbody>\n",
              "    <tr>\n",
              "      <th>0</th>\n",
              "      <td>mrdoob</td>\n",
              "      <td>three.js</td>\n",
              "      <td>69700</td>\n",
              "      <td>https://github.com/mrdoob/three.js</td>\n",
              "    </tr>\n",
              "    <tr>\n",
              "      <th>1</th>\n",
              "      <td>libgdx</td>\n",
              "      <td>libgdx</td>\n",
              "      <td>69700</td>\n",
              "      <td>https://github.com/libgdx/libgdx</td>\n",
              "    </tr>\n",
              "    <tr>\n",
              "      <th>2</th>\n",
              "      <td>BabylonJS</td>\n",
              "      <td>Babylon.js</td>\n",
              "      <td>69700</td>\n",
              "      <td>https://github.com/BabylonJS/Babylon.js</td>\n",
              "    </tr>\n",
              "    <tr>\n",
              "      <th>3</th>\n",
              "      <td>pmndrs</td>\n",
              "      <td>react-three-fiber</td>\n",
              "      <td>69700</td>\n",
              "      <td>https://github.com/pmndrs/react-three-fiber</td>\n",
              "    </tr>\n",
              "    <tr>\n",
              "      <th>4</th>\n",
              "      <td>aframevr</td>\n",
              "      <td>aframe</td>\n",
              "      <td>69700</td>\n",
              "      <td>https://github.com/aframevr/aframe</td>\n",
              "    </tr>\n",
              "    <tr>\n",
              "      <th>5</th>\n",
              "      <td>ssloy</td>\n",
              "      <td>tinyrenderer</td>\n",
              "      <td>69700</td>\n",
              "      <td>https://github.com/ssloy/tinyrenderer</td>\n",
              "    </tr>\n",
              "    <tr>\n",
              "      <th>6</th>\n",
              "      <td>FreeCAD</td>\n",
              "      <td>FreeCAD</td>\n",
              "      <td>69700</td>\n",
              "      <td>https://github.com/FreeCAD/FreeCAD</td>\n",
              "    </tr>\n",
              "    <tr>\n",
              "      <th>7</th>\n",
              "      <td>metafizzy</td>\n",
              "      <td>zdog</td>\n",
              "      <td>69700</td>\n",
              "      <td>https://github.com/metafizzy/zdog</td>\n",
              "    </tr>\n",
              "    <tr>\n",
              "      <th>8</th>\n",
              "      <td>lettier</td>\n",
              "      <td>3d-game-shaders-for-beginners</td>\n",
              "      <td>69700</td>\n",
              "      <td>https://github.com/lettier/3d-game-shaders-for...</td>\n",
              "    </tr>\n",
              "    <tr>\n",
              "      <th>9</th>\n",
              "      <td>CesiumGS</td>\n",
              "      <td>cesium</td>\n",
              "      <td>69700</td>\n",
              "      <td>https://github.com/CesiumGS/cesium</td>\n",
              "    </tr>\n",
              "    <tr>\n",
              "      <th>10</th>\n",
              "      <td>a1studmuffin</td>\n",
              "      <td>SpaceshipGenerator</td>\n",
              "      <td>69700</td>\n",
              "      <td>https://github.com/a1studmuffin/SpaceshipGener...</td>\n",
              "    </tr>\n",
              "    <tr>\n",
              "      <th>11</th>\n",
              "      <td>timzhang642</td>\n",
              "      <td>3D-Machine-Learning</td>\n",
              "      <td>69700</td>\n",
              "      <td>https://github.com/timzhang642/3D-Machine-Lear...</td>\n",
              "    </tr>\n",
              "    <tr>\n",
              "      <th>12</th>\n",
              "      <td>spritejs</td>\n",
              "      <td>spritejs</td>\n",
              "      <td>69700</td>\n",
              "      <td>https://github.com/spritejs/spritejs</td>\n",
              "    </tr>\n",
              "    <tr>\n",
              "      <th>13</th>\n",
              "      <td>tensorspace-team</td>\n",
              "      <td>tensorspace</td>\n",
              "      <td>69700</td>\n",
              "      <td>https://github.com/tensorspace-team/tensorspace</td>\n",
              "    </tr>\n",
              "    <tr>\n",
              "      <th>14</th>\n",
              "      <td>jagenjo</td>\n",
              "      <td>webglstudio.js</td>\n",
              "      <td>69700</td>\n",
              "      <td>https://github.com/jagenjo/webglstudio.js</td>\n",
              "    </tr>\n",
              "    <tr>\n",
              "      <th>15</th>\n",
              "      <td>intel-isl</td>\n",
              "      <td>Open3D</td>\n",
              "      <td>69700</td>\n",
              "      <td>https://github.com/intel-isl/Open3D</td>\n",
              "    </tr>\n",
              "    <tr>\n",
              "      <th>16</th>\n",
              "      <td>AaronJackson</td>\n",
              "      <td>vrn</td>\n",
              "      <td>69700</td>\n",
              "      <td>https://github.com/AaronJackson/vrn</td>\n",
              "    </tr>\n",
              "    <tr>\n",
              "      <th>17</th>\n",
              "      <td>YadiraF</td>\n",
              "      <td>PRNet</td>\n",
              "      <td>69700</td>\n",
              "      <td>https://github.com/YadiraF/PRNet</td>\n",
              "    </tr>\n",
              "    <tr>\n",
              "      <th>18</th>\n",
              "      <td>openscad</td>\n",
              "      <td>openscad</td>\n",
              "      <td>69700</td>\n",
              "      <td>https://github.com/openscad/openscad</td>\n",
              "    </tr>\n",
              "    <tr>\n",
              "      <th>19</th>\n",
              "      <td>domlysz</td>\n",
              "      <td>BlenderGIS</td>\n",
              "      <td>69700</td>\n",
              "      <td>https://github.com/domlysz/BlenderGIS</td>\n",
              "    </tr>\n",
              "    <tr>\n",
              "      <th>20</th>\n",
              "      <td>ssloy</td>\n",
              "      <td>tinyraytracer</td>\n",
              "      <td>69700</td>\n",
              "      <td>https://github.com/ssloy/tinyraytracer</td>\n",
              "    </tr>\n",
              "    <tr>\n",
              "      <th>21</th>\n",
              "      <td>mosra</td>\n",
              "      <td>magnum</td>\n",
              "      <td>69700</td>\n",
              "      <td>https://github.com/mosra/magnum</td>\n",
              "    </tr>\n",
              "    <tr>\n",
              "      <th>22</th>\n",
              "      <td>cleardusk</td>\n",
              "      <td>3DDFA</td>\n",
              "      <td>69700</td>\n",
              "      <td>https://github.com/cleardusk/3DDFA</td>\n",
              "    </tr>\n",
              "    <tr>\n",
              "      <th>23</th>\n",
              "      <td>gfxfundamentals</td>\n",
              "      <td>webgl-fundamentals</td>\n",
              "      <td>69700</td>\n",
              "      <td>https://github.com/gfxfundamentals/webgl-funda...</td>\n",
              "    </tr>\n",
              "    <tr>\n",
              "      <th>24</th>\n",
              "      <td>jasonlong</td>\n",
              "      <td>isometric-contributions</td>\n",
              "      <td>69700</td>\n",
              "      <td>https://github.com/jasonlong/isometric-contrib...</td>\n",
              "    </tr>\n",
              "    <tr>\n",
              "      <th>25</th>\n",
              "      <td>google</td>\n",
              "      <td>model-viewer</td>\n",
              "      <td>69700</td>\n",
              "      <td>https://github.com/google/model-viewer</td>\n",
              "    </tr>\n",
              "    <tr>\n",
              "      <th>26</th>\n",
              "      <td>blender</td>\n",
              "      <td>blender</td>\n",
              "      <td>69700</td>\n",
              "      <td>https://github.com/blender/blender</td>\n",
              "    </tr>\n",
              "    <tr>\n",
              "      <th>27</th>\n",
              "      <td>antvis</td>\n",
              "      <td>L7</td>\n",
              "      <td>69700</td>\n",
              "      <td>https://github.com/antvis/L7</td>\n",
              "    </tr>\n",
              "    <tr>\n",
              "      <th>28</th>\n",
              "      <td>pissang</td>\n",
              "      <td>claygl</td>\n",
              "      <td>69700</td>\n",
              "      <td>https://github.com/pissang/claygl</td>\n",
              "    </tr>\n",
              "    <tr>\n",
              "      <th>29</th>\n",
              "      <td>tinyobjloader</td>\n",
              "      <td>tinyobjloader</td>\n",
              "      <td>69700</td>\n",
              "      <td>https://github.com/tinyobjloader/tinyobjloader</td>\n",
              "    </tr>\n",
              "  </tbody>\n",
              "</table>\n",
              "</div>"
            ],
            "text/plain": [
              "            username  ...                                           repo_url\n",
              "0             mrdoob  ...                 https://github.com/mrdoob/three.js\n",
              "1             libgdx  ...                   https://github.com/libgdx/libgdx\n",
              "2          BabylonJS  ...            https://github.com/BabylonJS/Babylon.js\n",
              "3             pmndrs  ...        https://github.com/pmndrs/react-three-fiber\n",
              "4           aframevr  ...                 https://github.com/aframevr/aframe\n",
              "5              ssloy  ...              https://github.com/ssloy/tinyrenderer\n",
              "6            FreeCAD  ...                 https://github.com/FreeCAD/FreeCAD\n",
              "7          metafizzy  ...                  https://github.com/metafizzy/zdog\n",
              "8            lettier  ...  https://github.com/lettier/3d-game-shaders-for...\n",
              "9           CesiumGS  ...                 https://github.com/CesiumGS/cesium\n",
              "10      a1studmuffin  ...  https://github.com/a1studmuffin/SpaceshipGener...\n",
              "11       timzhang642  ...  https://github.com/timzhang642/3D-Machine-Lear...\n",
              "12          spritejs  ...               https://github.com/spritejs/spritejs\n",
              "13  tensorspace-team  ...    https://github.com/tensorspace-team/tensorspace\n",
              "14           jagenjo  ...          https://github.com/jagenjo/webglstudio.js\n",
              "15         intel-isl  ...                https://github.com/intel-isl/Open3D\n",
              "16      AaronJackson  ...                https://github.com/AaronJackson/vrn\n",
              "17           YadiraF  ...                   https://github.com/YadiraF/PRNet\n",
              "18          openscad  ...               https://github.com/openscad/openscad\n",
              "19           domlysz  ...              https://github.com/domlysz/BlenderGIS\n",
              "20             ssloy  ...             https://github.com/ssloy/tinyraytracer\n",
              "21             mosra  ...                    https://github.com/mosra/magnum\n",
              "22         cleardusk  ...                 https://github.com/cleardusk/3DDFA\n",
              "23   gfxfundamentals  ...  https://github.com/gfxfundamentals/webgl-funda...\n",
              "24         jasonlong  ...  https://github.com/jasonlong/isometric-contrib...\n",
              "25            google  ...             https://github.com/google/model-viewer\n",
              "26           blender  ...                 https://github.com/blender/blender\n",
              "27            antvis  ...                       https://github.com/antvis/L7\n",
              "28           pissang  ...                  https://github.com/pissang/claygl\n",
              "29     tinyobjloader  ...     https://github.com/tinyobjloader/tinyobjloader\n",
              "\n",
              "[30 rows x 4 columns]"
            ]
          },
          "metadata": {
            "tags": []
          },
          "execution_count": 753
        }
      ]
    },
    {
      "cell_type": "code",
      "metadata": {
        "id": "4pEeHIBozRVZ"
      },
      "source": [
        "import os\n",
        "\n",
        "def get_topic_page(topic_url):\n",
        "    # Download the page\n",
        "    response = requests.get(topic_url)\n",
        "    # Check successful response\n",
        "    if response.status_code != 200:\n",
        "        raise Exception('Failed to load page {}'.format(topic_url))\n",
        "    # Parse using Beautiful soup\n",
        "    topic_doc = BeautifulSoup(response.text, 'html.parser')\n",
        "    return topic_doc\n",
        "\n",
        "def get_repo_info(h1_tag, star_tag):\n",
        "    # returns all the required info about a repository\n",
        "    a_tags = h1_tag.find_all('a')\n",
        "    username = a_tags[0].text.strip()\n",
        "    repo_name = a_tags[1].text.strip()\n",
        "    repo_url =  base_url + a_tags[1]['href']\n",
        "    stars = parse_star_count(star_tag.text.strip())\n",
        "    return username, repo_name, stars, repo_url\n",
        "\n",
        "def get_topic_repos(topic_doc):\n",
        "    # Get the h1 tags containing repo title, repo URL and username\n",
        "    h1_selection_class = 'f3 color-text-secondary text-normal lh-condensed'\n",
        "    repo_tags = topic_doc.find_all('h1', {'class': h1_selection_class} )\n",
        "    # Get star tags\n",
        "    star_tags = topic_doc.find_all('a', { 'class': 'social-count float-none'})\n",
        "    \n",
        "    topic_repos_dict = { 'username': [], 'repo_name': [], 'stars': [],'repo_url': []}\n",
        "\n",
        "    # Get repo info\n",
        "    for i in range(len(repo_tags)):\n",
        "        repo_info = get_repo_info(repo_tags[i], star_tags[i])\n",
        "        topic_repos_dict['username'].append(repo_info[0])\n",
        "        topic_repos_dict['repo_name'].append(repo_info[1])\n",
        "        topic_repos_dict['stars'].append(repo_info[2])\n",
        "        topic_repos_dict['repo_url'].append(repo_info[3])\n",
        "        \n",
        "    return pd.DataFrame(topic_repos_dict)\n",
        "\n",
        "\n",
        "def scrape_topic(topic_url, path):\n",
        "    if os.path.exists(path):\n",
        "        print(\"The file {} already exists. Skipping...\".format(path))\n",
        "        return\n",
        "    topic_df = get_topic_repos(get_topic_page(topic_url))\n",
        "    topic_df.to_csv(path, index=None)"
      ],
      "execution_count": 754,
      "outputs": []
    },
    {
      "cell_type": "code",
      "metadata": {
        "id": "P23WmVF19ehs"
      },
      "source": [
        "#Another topic\n",
        "url4 = topic_urls[4]"
      ],
      "execution_count": 755,
      "outputs": []
    },
    {
      "cell_type": "code",
      "metadata": {
        "id": "el5ZH8nZK70p",
        "outputId": "01578166-1f4d-47b3-e1a7-83f6b04ca955",
        "colab": {
          "base_uri": "https://localhost:8080/",
          "height": 910
        }
      },
      "source": [
        "get_topic_repos(get_topic_page(topic_urls[4]))"
      ],
      "execution_count": 756,
      "outputs": [
        {
          "output_type": "execute_result",
          "data": {
            "text/html": [
              "<div>\n",
              "<style scoped>\n",
              "    .dataframe tbody tr th:only-of-type {\n",
              "        vertical-align: middle;\n",
              "    }\n",
              "\n",
              "    .dataframe tbody tr th {\n",
              "        vertical-align: top;\n",
              "    }\n",
              "\n",
              "    .dataframe thead th {\n",
              "        text-align: right;\n",
              "    }\n",
              "</style>\n",
              "<table border=\"1\" class=\"dataframe\">\n",
              "  <thead>\n",
              "    <tr style=\"text-align: right;\">\n",
              "      <th></th>\n",
              "      <th>username</th>\n",
              "      <th>repo_name</th>\n",
              "      <th>stars</th>\n",
              "      <th>repo_url</th>\n",
              "    </tr>\n",
              "  </thead>\n",
              "  <tbody>\n",
              "    <tr>\n",
              "      <th>0</th>\n",
              "      <td>flutter</td>\n",
              "      <td>flutter</td>\n",
              "      <td>118000</td>\n",
              "      <td>https://github.com/flutter/flutter</td>\n",
              "    </tr>\n",
              "    <tr>\n",
              "      <th>1</th>\n",
              "      <td>justjavac</td>\n",
              "      <td>free-programming-books-zh_CN</td>\n",
              "      <td>78600</td>\n",
              "      <td>https://github.com/justjavac/free-programming-...</td>\n",
              "    </tr>\n",
              "    <tr>\n",
              "      <th>2</th>\n",
              "      <td>Genymobile</td>\n",
              "      <td>scrcpy</td>\n",
              "      <td>47300</td>\n",
              "      <td>https://github.com/Genymobile/scrcpy</td>\n",
              "    </tr>\n",
              "    <tr>\n",
              "      <th>3</th>\n",
              "      <td>Hack-with-Github</td>\n",
              "      <td>Awesome-Hacking</td>\n",
              "      <td>43700</td>\n",
              "      <td>https://github.com/Hack-with-Github/Awesome-Ha...</td>\n",
              "    </tr>\n",
              "    <tr>\n",
              "      <th>4</th>\n",
              "      <td>google</td>\n",
              "      <td>material-design-icons</td>\n",
              "      <td>42700</td>\n",
              "      <td>https://github.com/google/material-design-icons</td>\n",
              "    </tr>\n",
              "    <tr>\n",
              "      <th>5</th>\n",
              "      <td>wasabeef</td>\n",
              "      <td>awesome-android-ui</td>\n",
              "      <td>40300</td>\n",
              "      <td>https://github.com/wasabeef/awesome-android-ui</td>\n",
              "    </tr>\n",
              "    <tr>\n",
              "      <th>6</th>\n",
              "      <td>square</td>\n",
              "      <td>okhttp</td>\n",
              "      <td>39800</td>\n",
              "      <td>https://github.com/square/okhttp</td>\n",
              "    </tr>\n",
              "    <tr>\n",
              "      <th>7</th>\n",
              "      <td>android</td>\n",
              "      <td>architecture-samples</td>\n",
              "      <td>38600</td>\n",
              "      <td>https://github.com/android/architecture-samples</td>\n",
              "    </tr>\n",
              "    <tr>\n",
              "      <th>8</th>\n",
              "      <td>square</td>\n",
              "      <td>retrofit</td>\n",
              "      <td>37900</td>\n",
              "      <td>https://github.com/square/retrofit</td>\n",
              "    </tr>\n",
              "    <tr>\n",
              "      <th>9</th>\n",
              "      <td>Solido</td>\n",
              "      <td>awesome-flutter</td>\n",
              "      <td>35000</td>\n",
              "      <td>https://github.com/Solido/awesome-flutter</td>\n",
              "    </tr>\n",
              "    <tr>\n",
              "      <th>10</th>\n",
              "      <td>PhilJay</td>\n",
              "      <td>MPAndroidChart</td>\n",
              "      <td>33100</td>\n",
              "      <td>https://github.com/PhilJay/MPAndroidChart</td>\n",
              "    </tr>\n",
              "    <tr>\n",
              "      <th>11</th>\n",
              "      <td>fastlane</td>\n",
              "      <td>fastlane</td>\n",
              "      <td>31700</td>\n",
              "      <td>https://github.com/fastlane/fastlane</td>\n",
              "    </tr>\n",
              "    <tr>\n",
              "      <th>12</th>\n",
              "      <td>shadowsocks</td>\n",
              "      <td>shadowsocks-android</td>\n",
              "      <td>31300</td>\n",
              "      <td>https://github.com/shadowsocks/shadowsocks-and...</td>\n",
              "    </tr>\n",
              "    <tr>\n",
              "      <th>13</th>\n",
              "      <td>bumptech</td>\n",
              "      <td>glide</td>\n",
              "      <td>31000</td>\n",
              "      <td>https://github.com/bumptech/glide</td>\n",
              "    </tr>\n",
              "    <tr>\n",
              "      <th>14</th>\n",
              "      <td>airbnb</td>\n",
              "      <td>lottie-android</td>\n",
              "      <td>31000</td>\n",
              "      <td>https://github.com/airbnb/lottie-android</td>\n",
              "    </tr>\n",
              "    <tr>\n",
              "      <th>15</th>\n",
              "      <td>Trinea</td>\n",
              "      <td>android-open-project</td>\n",
              "      <td>30600</td>\n",
              "      <td>https://github.com/Trinea/android-open-project</td>\n",
              "    </tr>\n",
              "    <tr>\n",
              "      <th>16</th>\n",
              "      <td>Blankj</td>\n",
              "      <td>AndroidUtilCode</td>\n",
              "      <td>29100</td>\n",
              "      <td>https://github.com/Blankj/AndroidUtilCode</td>\n",
              "    </tr>\n",
              "    <tr>\n",
              "      <th>17</th>\n",
              "      <td>xitu</td>\n",
              "      <td>gold-miner</td>\n",
              "      <td>28700</td>\n",
              "      <td>https://github.com/xitu/gold-miner</td>\n",
              "    </tr>\n",
              "    <tr>\n",
              "      <th>18</th>\n",
              "      <td>bilibili</td>\n",
              "      <td>ijkplayer</td>\n",
              "      <td>28700</td>\n",
              "      <td>https://github.com/bilibili/ijkplayer</td>\n",
              "    </tr>\n",
              "    <tr>\n",
              "      <th>19</th>\n",
              "      <td>zxing</td>\n",
              "      <td>zxing</td>\n",
              "      <td>27600</td>\n",
              "      <td>https://github.com/zxing/zxing</td>\n",
              "    </tr>\n",
              "    <tr>\n",
              "      <th>20</th>\n",
              "      <td>codepath</td>\n",
              "      <td>android_guides</td>\n",
              "      <td>27300</td>\n",
              "      <td>https://github.com/codepath/android_guides</td>\n",
              "    </tr>\n",
              "    <tr>\n",
              "      <th>21</th>\n",
              "      <td>square</td>\n",
              "      <td>leakcanary</td>\n",
              "      <td>26000</td>\n",
              "      <td>https://github.com/square/leakcanary</td>\n",
              "    </tr>\n",
              "    <tr>\n",
              "      <th>22</th>\n",
              "      <td>skylot</td>\n",
              "      <td>jadx</td>\n",
              "      <td>25700</td>\n",
              "      <td>https://github.com/skylot/jadx</td>\n",
              "    </tr>\n",
              "    <tr>\n",
              "      <th>23</th>\n",
              "      <td>alibaba</td>\n",
              "      <td>fastjson</td>\n",
              "      <td>23200</td>\n",
              "      <td>https://github.com/alibaba/fastjson</td>\n",
              "    </tr>\n",
              "    <tr>\n",
              "      <th>24</th>\n",
              "      <td>scwang90</td>\n",
              "      <td>SmartRefreshLayout</td>\n",
              "      <td>22400</td>\n",
              "      <td>https://github.com/scwang90/SmartRefreshLayout</td>\n",
              "    </tr>\n",
              "    <tr>\n",
              "      <th>25</th>\n",
              "      <td>laurent22</td>\n",
              "      <td>joplin</td>\n",
              "      <td>22300</td>\n",
              "      <td>https://github.com/laurent22/joplin</td>\n",
              "    </tr>\n",
              "    <tr>\n",
              "      <th>26</th>\n",
              "      <td>CymChad</td>\n",
              "      <td>BaseRecyclerViewAdapterHelper</td>\n",
              "      <td>21700</td>\n",
              "      <td>https://github.com/CymChad/BaseRecyclerViewAda...</td>\n",
              "    </tr>\n",
              "    <tr>\n",
              "      <th>27</th>\n",
              "      <td>react-native-elements</td>\n",
              "      <td>react-native-elements</td>\n",
              "      <td>20400</td>\n",
              "      <td>https://github.com/react-native-elements/react...</td>\n",
              "    </tr>\n",
              "    <tr>\n",
              "      <th>28</th>\n",
              "      <td>NativeScript</td>\n",
              "      <td>NativeScript</td>\n",
              "      <td>20000</td>\n",
              "      <td>https://github.com/NativeScript/NativeScript</td>\n",
              "    </tr>\n",
              "    <tr>\n",
              "      <th>29</th>\n",
              "      <td>futurice</td>\n",
              "      <td>android-best-practices</td>\n",
              "      <td>19600</td>\n",
              "      <td>https://github.com/futurice/android-best-pract...</td>\n",
              "    </tr>\n",
              "  </tbody>\n",
              "</table>\n",
              "</div>"
            ],
            "text/plain": [
              "                 username  ...                                           repo_url\n",
              "0                 flutter  ...                 https://github.com/flutter/flutter\n",
              "1               justjavac  ...  https://github.com/justjavac/free-programming-...\n",
              "2              Genymobile  ...               https://github.com/Genymobile/scrcpy\n",
              "3        Hack-with-Github  ...  https://github.com/Hack-with-Github/Awesome-Ha...\n",
              "4                  google  ...    https://github.com/google/material-design-icons\n",
              "5                wasabeef  ...     https://github.com/wasabeef/awesome-android-ui\n",
              "6                  square  ...                   https://github.com/square/okhttp\n",
              "7                 android  ...    https://github.com/android/architecture-samples\n",
              "8                  square  ...                 https://github.com/square/retrofit\n",
              "9                  Solido  ...          https://github.com/Solido/awesome-flutter\n",
              "10                PhilJay  ...          https://github.com/PhilJay/MPAndroidChart\n",
              "11               fastlane  ...               https://github.com/fastlane/fastlane\n",
              "12            shadowsocks  ...  https://github.com/shadowsocks/shadowsocks-and...\n",
              "13               bumptech  ...                  https://github.com/bumptech/glide\n",
              "14                 airbnb  ...           https://github.com/airbnb/lottie-android\n",
              "15                 Trinea  ...     https://github.com/Trinea/android-open-project\n",
              "16                 Blankj  ...          https://github.com/Blankj/AndroidUtilCode\n",
              "17                   xitu  ...                 https://github.com/xitu/gold-miner\n",
              "18               bilibili  ...              https://github.com/bilibili/ijkplayer\n",
              "19                  zxing  ...                     https://github.com/zxing/zxing\n",
              "20               codepath  ...         https://github.com/codepath/android_guides\n",
              "21                 square  ...               https://github.com/square/leakcanary\n",
              "22                 skylot  ...                     https://github.com/skylot/jadx\n",
              "23                alibaba  ...                https://github.com/alibaba/fastjson\n",
              "24               scwang90  ...     https://github.com/scwang90/SmartRefreshLayout\n",
              "25              laurent22  ...                https://github.com/laurent22/joplin\n",
              "26                CymChad  ...  https://github.com/CymChad/BaseRecyclerViewAda...\n",
              "27  react-native-elements  ...  https://github.com/react-native-elements/react...\n",
              "28           NativeScript  ...       https://github.com/NativeScript/NativeScript\n",
              "29               futurice  ...  https://github.com/futurice/android-best-pract...\n",
              "\n",
              "[30 rows x 4 columns]"
            ]
          },
          "metadata": {
            "tags": []
          },
          "execution_count": 756
        }
      ]
    },
    {
      "cell_type": "code",
      "metadata": {
        "id": "vktvmjPmK4xB"
      },
      "source": [
        "get_topic_repos(get_topic_page(topic_urls[5])).to_csv('insible.csv',index=1)"
      ],
      "execution_count": 757,
      "outputs": []
    },
    {
      "cell_type": "markdown",
      "metadata": {
        "id": "fQ-rhF1GMB70"
      },
      "source": [
        "- Write a single function to get a list of topics from topic page.\n",
        "- Get the list of top repos from the individual topic pages\n",
        "- For each topic, Create a csv of the top repositories for the topic"
      ]
    },
    {
      "cell_type": "code",
      "metadata": {
        "id": "fn1MhBcMK4uO"
      },
      "source": [
        "def get_topic_titles(doc):\n",
        "    selection_class = 'f3 lh-condensed mb-0 mt-1 Link--primary'\n",
        "    topic_title_tags = doc.find_all('p', {'class': selection_class})\n",
        "    topic_titles = []\n",
        "    for tag in topic_title_tags:\n",
        "        topic_titles.append(tag.text)\n",
        "    return topic_titles\n",
        "\n",
        "def get_topic_descs(doc):\n",
        "    desc_selector = 'f5 color-text-secondary mb-0 mt-1'\n",
        "    topic_desc_tags = doc.find_all('p', {'class': desc_selector})\n",
        "    topic_descs = []\n",
        "    for tag in topic_desc_tags:\n",
        "        topic_descs.append(tag.text.strip())\n",
        "    return topic_descs\n",
        "\n",
        "def get_topic_urls(doc):\n",
        "    topic_link_tags = doc.find_all('a', {'class': 'd-flex no-underline'})\n",
        "    topic_urls = []\n",
        "    base_url = 'https://github.com'\n",
        "    for tag in topic_link_tags:\n",
        "        topic_urls.append(base_url + tag['href'])\n",
        "    return topic_urls\n",
        "    \n",
        "\n",
        "def scrape_topics():\n",
        "    topics_url = 'https://github.com/topics'\n",
        "    response = requests.get(topics_url)\n",
        "    if response.status_code != 200:\n",
        "        raise Exception('Failed to load page {}'.format(topic_url))\n",
        "    topics_dict = {\n",
        "        'title': get_topic_titles(doc),\n",
        "        'description': get_topic_descs(doc),\n",
        "        'url': get_topic_urls(doc)\n",
        "    }\n",
        "    return pd.DataFrame(topics_dict)"
      ],
      "execution_count": 758,
      "outputs": []
    },
    {
      "cell_type": "code",
      "metadata": {
        "id": "OW0i9b9PM4Ow",
        "outputId": "be37fc5f-59a5-4112-9254-dc2396df1f2c",
        "colab": {
          "base_uri": "https://localhost:8080/",
          "height": 910
        }
      },
      "source": [
        "scrape_topics()"
      ],
      "execution_count": 759,
      "outputs": [
        {
          "output_type": "execute_result",
          "data": {
            "text/html": [
              "<div>\n",
              "<style scoped>\n",
              "    .dataframe tbody tr th:only-of-type {\n",
              "        vertical-align: middle;\n",
              "    }\n",
              "\n",
              "    .dataframe tbody tr th {\n",
              "        vertical-align: top;\n",
              "    }\n",
              "\n",
              "    .dataframe thead th {\n",
              "        text-align: right;\n",
              "    }\n",
              "</style>\n",
              "<table border=\"1\" class=\"dataframe\">\n",
              "  <thead>\n",
              "    <tr style=\"text-align: right;\">\n",
              "      <th></th>\n",
              "      <th>title</th>\n",
              "      <th>description</th>\n",
              "      <th>url</th>\n",
              "    </tr>\n",
              "  </thead>\n",
              "  <tbody>\n",
              "    <tr>\n",
              "      <th>0</th>\n",
              "      <td>3D</td>\n",
              "      <td>3D modeling is the process of virtually develo...</td>\n",
              "      <td>https://github.com/topics/3d</td>\n",
              "    </tr>\n",
              "    <tr>\n",
              "      <th>1</th>\n",
              "      <td>Ajax</td>\n",
              "      <td>Ajax is a technique for creating interactive w...</td>\n",
              "      <td>https://github.com/topics/ajax</td>\n",
              "    </tr>\n",
              "    <tr>\n",
              "      <th>2</th>\n",
              "      <td>Algorithm</td>\n",
              "      <td>Algorithms are self-contained sequences that c...</td>\n",
              "      <td>https://github.com/topics/algorithm</td>\n",
              "    </tr>\n",
              "    <tr>\n",
              "      <th>3</th>\n",
              "      <td>Amp</td>\n",
              "      <td>Amp is a non-blocking concurrency framework fo...</td>\n",
              "      <td>https://github.com/topics/amphp</td>\n",
              "    </tr>\n",
              "    <tr>\n",
              "      <th>4</th>\n",
              "      <td>Android</td>\n",
              "      <td>Android is an operating system built by Google...</td>\n",
              "      <td>https://github.com/topics/android</td>\n",
              "    </tr>\n",
              "    <tr>\n",
              "      <th>5</th>\n",
              "      <td>Angular</td>\n",
              "      <td>Angular is an open source web application plat...</td>\n",
              "      <td>https://github.com/topics/angular</td>\n",
              "    </tr>\n",
              "    <tr>\n",
              "      <th>6</th>\n",
              "      <td>Ansible</td>\n",
              "      <td>Ansible is a simple and powerful automation en...</td>\n",
              "      <td>https://github.com/topics/ansible</td>\n",
              "    </tr>\n",
              "    <tr>\n",
              "      <th>7</th>\n",
              "      <td>API</td>\n",
              "      <td>An API (Application Programming Interface) is ...</td>\n",
              "      <td>https://github.com/topics/api</td>\n",
              "    </tr>\n",
              "    <tr>\n",
              "      <th>8</th>\n",
              "      <td>Arduino</td>\n",
              "      <td>Arduino is an open source hardware and softwar...</td>\n",
              "      <td>https://github.com/topics/arduino</td>\n",
              "    </tr>\n",
              "    <tr>\n",
              "      <th>9</th>\n",
              "      <td>ASP.NET</td>\n",
              "      <td>ASP.NET is a web framework for building modern...</td>\n",
              "      <td>https://github.com/topics/aspnet</td>\n",
              "    </tr>\n",
              "    <tr>\n",
              "      <th>10</th>\n",
              "      <td>Atom</td>\n",
              "      <td>Atom is a open source text editor built with w...</td>\n",
              "      <td>https://github.com/topics/atom</td>\n",
              "    </tr>\n",
              "    <tr>\n",
              "      <th>11</th>\n",
              "      <td>Awesome Lists</td>\n",
              "      <td>An awesome list is a list of awesome things cu...</td>\n",
              "      <td>https://github.com/topics/awesome</td>\n",
              "    </tr>\n",
              "    <tr>\n",
              "      <th>12</th>\n",
              "      <td>Amazon Web Services</td>\n",
              "      <td>Amazon Web Services provides on-demand cloud c...</td>\n",
              "      <td>https://github.com/topics/aws</td>\n",
              "    </tr>\n",
              "    <tr>\n",
              "      <th>13</th>\n",
              "      <td>Azure</td>\n",
              "      <td>Azure is a cloud computing service created by ...</td>\n",
              "      <td>https://github.com/topics/azure</td>\n",
              "    </tr>\n",
              "    <tr>\n",
              "      <th>14</th>\n",
              "      <td>Babel</td>\n",
              "      <td>Babel is a compiler for writing next generatio...</td>\n",
              "      <td>https://github.com/topics/babel</td>\n",
              "    </tr>\n",
              "    <tr>\n",
              "      <th>15</th>\n",
              "      <td>Bash</td>\n",
              "      <td>Bash is a shell and command language interpret...</td>\n",
              "      <td>https://github.com/topics/bash</td>\n",
              "    </tr>\n",
              "    <tr>\n",
              "      <th>16</th>\n",
              "      <td>Bitcoin</td>\n",
              "      <td>Bitcoin is a cryptocurrency developed by Satos...</td>\n",
              "      <td>https://github.com/topics/bitcoin</td>\n",
              "    </tr>\n",
              "    <tr>\n",
              "      <th>17</th>\n",
              "      <td>Bootstrap</td>\n",
              "      <td>Bootstrap is an HTML, CSS, and JavaScript fram...</td>\n",
              "      <td>https://github.com/topics/bootstrap</td>\n",
              "    </tr>\n",
              "    <tr>\n",
              "      <th>18</th>\n",
              "      <td>Bot</td>\n",
              "      <td>A bot is an application that runs automated ta...</td>\n",
              "      <td>https://github.com/topics/bot</td>\n",
              "    </tr>\n",
              "    <tr>\n",
              "      <th>19</th>\n",
              "      <td>C</td>\n",
              "      <td>C is a general purpose programming language th...</td>\n",
              "      <td>https://github.com/topics/c</td>\n",
              "    </tr>\n",
              "    <tr>\n",
              "      <th>20</th>\n",
              "      <td>Chrome</td>\n",
              "      <td>Chrome is a web browser from the tech company ...</td>\n",
              "      <td>https://github.com/topics/chrome</td>\n",
              "    </tr>\n",
              "    <tr>\n",
              "      <th>21</th>\n",
              "      <td>Chrome extension</td>\n",
              "      <td>Google Chrome Extensions are add-ons that allo...</td>\n",
              "      <td>https://github.com/topics/chrome-extension</td>\n",
              "    </tr>\n",
              "    <tr>\n",
              "      <th>22</th>\n",
              "      <td>Command line interface</td>\n",
              "      <td>A CLI, or command-line interface, is a console...</td>\n",
              "      <td>https://github.com/topics/cli</td>\n",
              "    </tr>\n",
              "    <tr>\n",
              "      <th>23</th>\n",
              "      <td>Clojure</td>\n",
              "      <td>Clojure is a dynamic, general-purpose programm...</td>\n",
              "      <td>https://github.com/topics/clojure</td>\n",
              "    </tr>\n",
              "    <tr>\n",
              "      <th>24</th>\n",
              "      <td>Code quality</td>\n",
              "      <td>Automate your code review with style, quality,...</td>\n",
              "      <td>https://github.com/topics/code-quality</td>\n",
              "    </tr>\n",
              "    <tr>\n",
              "      <th>25</th>\n",
              "      <td>Code review</td>\n",
              "      <td>Ensure your code meets quality standards and s...</td>\n",
              "      <td>https://github.com/topics/code-review</td>\n",
              "    </tr>\n",
              "    <tr>\n",
              "      <th>26</th>\n",
              "      <td>Compiler</td>\n",
              "      <td>Compilers are software that translate higher-l...</td>\n",
              "      <td>https://github.com/topics/compiler</td>\n",
              "    </tr>\n",
              "    <tr>\n",
              "      <th>27</th>\n",
              "      <td>Continuous integration</td>\n",
              "      <td>Automatically build and test your code as you ...</td>\n",
              "      <td>https://github.com/topics/continuous-integration</td>\n",
              "    </tr>\n",
              "    <tr>\n",
              "      <th>28</th>\n",
              "      <td>COVID-19</td>\n",
              "      <td>The coronavirus disease 2019 (COVID-19) is an ...</td>\n",
              "      <td>https://github.com/topics/covid-19</td>\n",
              "    </tr>\n",
              "    <tr>\n",
              "      <th>29</th>\n",
              "      <td>C++</td>\n",
              "      <td>C++ is a general purpose and object-oriented p...</td>\n",
              "      <td>https://github.com/topics/cpp</td>\n",
              "    </tr>\n",
              "  </tbody>\n",
              "</table>\n",
              "</div>"
            ],
            "text/plain": [
              "                     title  ...                                               url\n",
              "0                       3D  ...                      https://github.com/topics/3d\n",
              "1                     Ajax  ...                    https://github.com/topics/ajax\n",
              "2                Algorithm  ...               https://github.com/topics/algorithm\n",
              "3                      Amp  ...                   https://github.com/topics/amphp\n",
              "4                  Android  ...                 https://github.com/topics/android\n",
              "5                  Angular  ...                 https://github.com/topics/angular\n",
              "6                  Ansible  ...                 https://github.com/topics/ansible\n",
              "7                      API  ...                     https://github.com/topics/api\n",
              "8                  Arduino  ...                 https://github.com/topics/arduino\n",
              "9                  ASP.NET  ...                  https://github.com/topics/aspnet\n",
              "10                    Atom  ...                    https://github.com/topics/atom\n",
              "11           Awesome Lists  ...                 https://github.com/topics/awesome\n",
              "12     Amazon Web Services  ...                     https://github.com/topics/aws\n",
              "13                   Azure  ...                   https://github.com/topics/azure\n",
              "14                   Babel  ...                   https://github.com/topics/babel\n",
              "15                    Bash  ...                    https://github.com/topics/bash\n",
              "16                 Bitcoin  ...                 https://github.com/topics/bitcoin\n",
              "17               Bootstrap  ...               https://github.com/topics/bootstrap\n",
              "18                     Bot  ...                     https://github.com/topics/bot\n",
              "19                       C  ...                       https://github.com/topics/c\n",
              "20                  Chrome  ...                  https://github.com/topics/chrome\n",
              "21        Chrome extension  ...        https://github.com/topics/chrome-extension\n",
              "22  Command line interface  ...                     https://github.com/topics/cli\n",
              "23                 Clojure  ...                 https://github.com/topics/clojure\n",
              "24            Code quality  ...            https://github.com/topics/code-quality\n",
              "25             Code review  ...             https://github.com/topics/code-review\n",
              "26                Compiler  ...                https://github.com/topics/compiler\n",
              "27  Continuous integration  ...  https://github.com/topics/continuous-integration\n",
              "28                COVID-19  ...                https://github.com/topics/covid-19\n",
              "29                     C++  ...                     https://github.com/topics/cpp\n",
              "\n",
              "[30 rows x 3 columns]"
            ]
          },
          "metadata": {
            "tags": []
          },
          "execution_count": 759
        }
      ]
    },
    {
      "cell_type": "code",
      "metadata": {
        "id": "4AVBkJ3vY507",
        "outputId": "eb3ad90a-0eb5-4ff7-d400-ae378c7866a9",
        "colab": {
          "base_uri": "https://localhost:8080/"
        }
      },
      "source": [
        "#Save to a folder\n",
        "import os\n",
        "\n",
        "help(os.makedirs)"
      ],
      "execution_count": 760,
      "outputs": [
        {
          "output_type": "stream",
          "text": [
            "Help on function makedirs in module os:\n",
            "\n",
            "makedirs(name, mode=511, exist_ok=False)\n",
            "    makedirs(name [, mode=0o777][, exist_ok=False])\n",
            "    \n",
            "    Super-mkdir; create a leaf directory and all intermediate ones.  Works like\n",
            "    mkdir, except that any intermediate path segment (not just the rightmost)\n",
            "    will be created if it does not exist. If the target directory already\n",
            "    exists, raise an OSError if exist_ok is False. Otherwise no exception is\n",
            "    raised.  This is recursive.\n",
            "\n"
          ],
          "name": "stdout"
        }
      ]
    },
    {
      "cell_type": "code",
      "metadata": {
        "id": "3LPU875HMAjz"
      },
      "source": [
        "#Get the list of topics from the topics space\n",
        "def scrape_topics_repos():\n",
        "    print('Scraping list of topics')\n",
        "    topics_df = scrape_topics()\n",
        "    \n",
        "    os.makedirs('data', exist_ok=True)\n",
        "    for index, row in topics_df.iterrows():\n",
        "        print('Scraping top repositories for \"{}\"'.format(row['title']))\n",
        "        scrape_topic(row['url'], 'data/{}.csv'.format(row['title']))"
      ],
      "execution_count": 761,
      "outputs": []
    },
    {
      "cell_type": "code",
      "metadata": {
        "id": "CcGPm0ElMAfD",
        "outputId": "3340662a-df7c-4699-efc6-c370b42b4658",
        "colab": {
          "base_uri": "https://localhost:8080/"
        }
      },
      "source": [
        "#Scrape the files\n",
        "scrape_topics_repos()\n"
      ],
      "execution_count": 762,
      "outputs": [
        {
          "output_type": "stream",
          "text": [
            "Scraping list of topics\n",
            "Scraping top repositories for \"3D\"\n",
            "The file data/3D.csv already exists. Skipping...\n",
            "Scraping top repositories for \"Ajax\"\n",
            "The file data/Ajax.csv already exists. Skipping...\n",
            "Scraping top repositories for \"Algorithm\"\n",
            "The file data/Algorithm.csv already exists. Skipping...\n",
            "Scraping top repositories for \"Amp\"\n",
            "The file data/Amp.csv already exists. Skipping...\n",
            "Scraping top repositories for \"Android\"\n",
            "The file data/Android.csv already exists. Skipping...\n",
            "Scraping top repositories for \"Angular\"\n",
            "The file data/Angular.csv already exists. Skipping...\n",
            "Scraping top repositories for \"Ansible\"\n",
            "The file data/Ansible.csv already exists. Skipping...\n",
            "Scraping top repositories for \"API\"\n",
            "The file data/API.csv already exists. Skipping...\n",
            "Scraping top repositories for \"Arduino\"\n",
            "The file data/Arduino.csv already exists. Skipping...\n",
            "Scraping top repositories for \"ASP.NET\"\n",
            "The file data/ASP.NET.csv already exists. Skipping...\n",
            "Scraping top repositories for \"Atom\"\n",
            "The file data/Atom.csv already exists. Skipping...\n",
            "Scraping top repositories for \"Awesome Lists\"\n",
            "The file data/Awesome Lists.csv already exists. Skipping...\n",
            "Scraping top repositories for \"Amazon Web Services\"\n",
            "The file data/Amazon Web Services.csv already exists. Skipping...\n",
            "Scraping top repositories for \"Azure\"\n",
            "The file data/Azure.csv already exists. Skipping...\n",
            "Scraping top repositories for \"Babel\"\n",
            "The file data/Babel.csv already exists. Skipping...\n",
            "Scraping top repositories for \"Bash\"\n",
            "The file data/Bash.csv already exists. Skipping...\n",
            "Scraping top repositories for \"Bitcoin\"\n",
            "The file data/Bitcoin.csv already exists. Skipping...\n",
            "Scraping top repositories for \"Bootstrap\"\n",
            "The file data/Bootstrap.csv already exists. Skipping...\n",
            "Scraping top repositories for \"Bot\"\n",
            "The file data/Bot.csv already exists. Skipping...\n",
            "Scraping top repositories for \"C\"\n",
            "The file data/C.csv already exists. Skipping...\n",
            "Scraping top repositories for \"Chrome\"\n",
            "The file data/Chrome.csv already exists. Skipping...\n",
            "Scraping top repositories for \"Chrome extension\"\n",
            "The file data/Chrome extension.csv already exists. Skipping...\n",
            "Scraping top repositories for \"Command line interface\"\n",
            "The file data/Command line interface.csv already exists. Skipping...\n",
            "Scraping top repositories for \"Clojure\"\n",
            "The file data/Clojure.csv already exists. Skipping...\n",
            "Scraping top repositories for \"Code quality\"\n",
            "The file data/Code quality.csv already exists. Skipping...\n",
            "Scraping top repositories for \"Code review\"\n",
            "The file data/Code review.csv already exists. Skipping...\n",
            "Scraping top repositories for \"Compiler\"\n",
            "The file data/Compiler.csv already exists. Skipping...\n",
            "Scraping top repositories for \"Continuous integration\"\n",
            "The file data/Continuous integration.csv already exists. Skipping...\n",
            "Scraping top repositories for \"COVID-19\"\n",
            "The file data/COVID-19.csv already exists. Skipping...\n",
            "Scraping top repositories for \"C++\"\n",
            "The file data/C++.csv already exists. Skipping...\n"
          ],
          "name": "stdout"
        }
      ]
    },
    {
      "cell_type": "code",
      "metadata": {
        "id": "sUhMbPbkMAc-"
      },
      "source": [
        "import github2pypi"
      ],
      "execution_count": 763,
      "outputs": []
    }
  ]
}