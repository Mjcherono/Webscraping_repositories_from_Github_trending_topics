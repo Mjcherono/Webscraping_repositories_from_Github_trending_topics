{
  "nbformat": 4,
  "nbformat_minor": 0,
  "metadata": {
    "colab": {
      "name": "Scraping Latest Research/Analysis Topics by Fraym.ipynb",
      "provenance": [],
      "authorship_tag": "ABX9TyN7cpKflCmBwPqDteDXf0N4",
      "include_colab_link": true
    },
    "kernelspec": {
      "name": "python3",
      "display_name": "Python 3"
    },
    "language_info": {
      "name": "python"
    }
  },
  "cells": [
    {
      "cell_type": "markdown",
      "metadata": {
        "id": "view-in-github",
        "colab_type": "text"
      },
      "source": [
        "<a href=\"https://colab.research.google.com/github/Mjcherono/Webscraping_repositories_from_Github_trending_topics/blob/main/Scraping_Latest_Research_Analysis_Topics_by_Fraym.ipynb\" target=\"_parent\"><img src=\"https://colab.research.google.com/assets/colab-badge.svg\" alt=\"Open In Colab\"/></a>"
      ]
    },
    {
      "cell_type": "markdown",
      "metadata": {
        "id": "3dqVoQEQl2fB"
      },
      "source": [
        "###  Latest Research/Analysis Topics by Fraym as at April 2021\n",
        "\n",
        "- We're going to scrape https://fraym.io/analysis/\n",
        "- We'll get a list of topics. For each topic, we'll get topic title, topic page URL and topic description\n",
        "- We'll create a CSV file in the following format:\n",
        "\n",
        "  Topic_Name, Publish_date, URL, Description."
      ]
    },
    {
      "cell_type": "markdown",
      "metadata": {
        "id": "Eug0lK6um3Ts"
      },
      "source": [
        "1. Scrape the list of Topics from te Fraym Website.\n",
        " - Use requests to download the page\n",
        " - Use beautiful soup 4 to parse and extract information.\n",
        " - Convert to pandas data frame"
      ]
    },
    {
      "cell_type": "code",
      "metadata": {
        "id": "x7DL0gN6pwqz"
      },
      "source": [
        "import pandas as pd\n",
        "import requests\n",
        "from bs4 import BeautifulSoup\n"
      ],
      "execution_count": 298,
      "outputs": []
    },
    {
      "cell_type": "code",
      "metadata": {
        "id": "MKkdJofJmvRl"
      },
      "source": [
        "# download the page\n",
        "topics_url = 'https://fraym.io/analysis'\n",
        "s = requests.Session()\n",
        "response = requests.get(topics_url)"
      ],
      "execution_count": 299,
      "outputs": []
    },
    {
      "cell_type": "code",
      "metadata": {
        "colab": {
          "base_uri": "https://localhost:8080/"
        },
        "id": "AoiSmU1UmvLE",
        "outputId": "e03f6585-e3d7-413d-ba30-a8189c403e1f"
      },
      "source": [
        "response.status_code"
      ],
      "execution_count": 300,
      "outputs": [
        {
          "output_type": "execute_result",
          "data": {
            "text/plain": [
              "200"
            ]
          },
          "metadata": {
            "tags": []
          },
          "execution_count": 300
        }
      ]
    },
    {
      "cell_type": "code",
      "metadata": {
        "colab": {
          "base_uri": "https://localhost:8080/"
        },
        "id": "uI9azMKHmvJC",
        "outputId": "2de2625a-dc9e-47d7-c8bc-eda432ffe099"
      },
      "source": [
        "#To get the content of the page\n",
        "len(response.text)"
      ],
      "execution_count": 301,
      "outputs": [
        {
          "output_type": "execute_result",
          "data": {
            "text/plain": [
              "99904"
            ]
          },
          "metadata": {
            "tags": []
          },
          "execution_count": 301
        }
      ]
    },
    {
      "cell_type": "code",
      "metadata": {
        "id": "gGMLAcwlqKEJ"
      },
      "source": [
        "page_contents = response.text"
      ],
      "execution_count": 302,
      "outputs": []
    },
    {
      "cell_type": "code",
      "metadata": {
        "id": "dZpKRnBevLVt"
      },
      "source": [
        "#Save the page contents to a html file\n",
        "with open('webpage.html','w') as f:\n",
        "  f.write(page_contents)\n",
        "  #Not necessary though"
      ],
      "execution_count": 303,
      "outputs": []
    },
    {
      "cell_type": "markdown",
      "metadata": {
        "id": "6iomPl62wJ69"
      },
      "source": [
        "Use Beautiful Soup to parse and extract Information."
      ]
    },
    {
      "cell_type": "code",
      "metadata": {
        "id": "Z_hVC6xTvLSo"
      },
      "source": [
        "from bs4 import BeautifulSoup\n",
        "\n",
        "doc = BeautifulSoup(page_contents, 'html.parser')\n"
      ],
      "execution_count": 304,
      "outputs": []
    },
    {
      "cell_type": "markdown",
      "metadata": {
        "id": "RPxuy3huAZ0k"
      },
      "source": [
        "Topic Headings"
      ]
    },
    {
      "cell_type": "code",
      "metadata": {
        "id": "BXms2vEEvLPe"
      },
      "source": [
        "#Trying to grab the topic headings\n",
        "#Since the titles are on the a tags. We'll find all the a tags\n",
        "#Specify the search\n",
        "selection_class =\"fl-post-feed-title\"\n",
        "topic_title_tags = doc.find_all('h2', {'class':selection_class})"
      ],
      "execution_count": 305,
      "outputs": []
    },
    {
      "cell_type": "code",
      "metadata": {
        "colab": {
          "base_uri": "https://localhost:8080/"
        },
        "id": "AePNU_05vLNk",
        "outputId": "204934dd-b1c5-4e2c-c385-a80c82992fd9"
      },
      "source": [
        "#Check the length to see if info you are getting is reasonable\n",
        "\n",
        "len(topic_title_tags)"
      ],
      "execution_count": 306,
      "outputs": [
        {
          "output_type": "execute_result",
          "data": {
            "text/plain": [
              "10"
            ]
          },
          "metadata": {
            "tags": []
          },
          "execution_count": 306
        }
      ]
    },
    {
      "cell_type": "code",
      "metadata": {
        "colab": {
          "base_uri": "https://localhost:8080/"
        },
        "id": "PKxQvue1qKBS",
        "outputId": "022f938a-111e-44b0-83e1-17c5d2478b68"
      },
      "source": [
        "#check first 10 entries\n",
        "\n",
        "topic_title_tags[:10]"
      ],
      "execution_count": 307,
      "outputs": [
        {
          "output_type": "execute_result",
          "data": {
            "text/plain": [
              "[<h2 class=\"fl-post-feed-title\" itemprop=\"headline\">\n",
              " <a href=\"https://fraym.io/tbethiopia/\" rel=\"bookmark\" title=\"Understanding TB Risk in Pastoralist Communities\">Understanding TB Risk in Pastoralist Communities</a>\n",
              " </h2>, <h2 class=\"fl-post-feed-title\" itemprop=\"headline\">\n",
              " <a href=\"https://fraym.io/nepalwash/\" rel=\"bookmark\" title=\"Expanding Access to Water Where it Matters Most: The Impact of Climate Change on WASH in Nepal\">Expanding Access to Water Where it Matters Most: The Impact of Climate Change on WASH in Nepal</a>\n",
              " </h2>, <h2 class=\"fl-post-feed-title\" itemprop=\"headline\">\n",
              " <a href=\"https://fraym.io/pr-genderequality/\" rel=\"bookmark\" title=\"Leading Global Organizations Invest in Community-Level Data to Advance Gender Equality\">Leading Global Organizations Invest in Community-Level Data to Advance Gender Equality</a>\n",
              " </h2>, <h2 class=\"fl-post-feed-title\" itemprop=\"headline\">\n",
              " <a href=\"https://fraym.io/childmarriage/\" rel=\"bookmark\" title=\"Fighting for a Future Free of Child Marriage – How Hyper-Local Data Can Help Drive Results\">Fighting for a Future Free of Child Marriage – How Hyper-Local Data Can Help Drive Results</a>\n",
              " </h2>, <h2 class=\"fl-post-feed-title\" itemprop=\"headline\">\n",
              " <a href=\"https://fraym.io/facebookproject17/\" rel=\"bookmark\" title=\"Fraym Partners with Facebook’s Project 17: Layering Sex-Disaggregated Data Sets Expose Gender Inequalities\">Fraym Partners with Facebook’s Project 17: Layering Sex-Disaggregated Data Sets Expose Gender Inequalities</a>\n",
              " </h2>, <h2 class=\"fl-post-feed-title\" itemprop=\"headline\">\n",
              " <a href=\"https://fraym.io/meadaptivemanagement_part3/\" rel=\"bookmark\" title=\"M&amp;E Series Part 3 of 3: ML-Powered Spatial Data Transforms Your Adaptative Management Techniques\">M&amp;E Series Part 3 of 3: ML-Powered Spatial Data Transforms Your Adaptative Management Techniques</a>\n",
              " </h2>, <h2 class=\"fl-post-feed-title\" itemprop=\"headline\">\n",
              " <a href=\"https://fraym.io/fgm-mali/\" rel=\"bookmark\" title=\"International Day of Zero Tolerance for FGM: Applying ML data to target programs\">International Day of Zero Tolerance for FGM: Applying ML data to target programs</a>\n",
              " </h2>, <h2 class=\"fl-post-feed-title\" itemprop=\"headline\">\n",
              " <a href=\"https://fraym.io/meevauluation_part2/\" rel=\"bookmark\" title=\"M&amp;E Series Part 2 of 3: Adding New Dimensions to Geospatial Impact Evaluations\">M&amp;E Series Part 2 of 3: Adding New Dimensions to Geospatial Impact Evaluations</a>\n",
              " </h2>, <h2 class=\"fl-post-feed-title\" itemprop=\"headline\">\n",
              " <a href=\"https://fraym.io/pr-mande/\" rel=\"bookmark\" title=\"Machine-learning data helps global development organizations monitor &amp; evaluate programs\">Machine-learning data helps global development organizations monitor &amp; evaluate programs</a>\n",
              " </h2>, <h2 class=\"fl-post-feed-title\" itemprop=\"headline\">\n",
              " <a href=\"https://fraym.io/mebaseline_part1/\" rel=\"bookmark\" title=\"M&amp;E Series Part 1 of 3: Geospatial Data for Baseline Assessments and Contextual Analysis\">M&amp;E Series Part 1 of 3: Geospatial Data for Baseline Assessments and Contextual Analysis</a>\n",
              " </h2>]"
            ]
          },
          "metadata": {
            "tags": []
          },
          "execution_count": 307
        }
      ]
    },
    {
      "cell_type": "markdown",
      "metadata": {
        "id": "0pZc4EJYAcns"
      },
      "source": [
        "Date of Publishing Topic."
      ]
    },
    {
      "cell_type": "code",
      "metadata": {
        "id": "hrQ4bnOEqJ9Y"
      },
      "source": [
        "#Topic Dates\n",
        "\n",
        "date_selector =\"fl-post-feed-date\"\n",
        "topic_dateofpublish_tags = doc.find_all('span', {'class':date_selector})"
      ],
      "execution_count": 308,
      "outputs": []
    },
    {
      "cell_type": "code",
      "metadata": {
        "colab": {
          "base_uri": "https://localhost:8080/"
        },
        "id": "lH4Ts6_T_XZN",
        "outputId": "c7760983-e327-497b-904e-5a0bcae8cc89"
      },
      "source": [
        "len(topic_dateofpublish_tags)"
      ],
      "execution_count": 309,
      "outputs": [
        {
          "output_type": "execute_result",
          "data": {
            "text/plain": [
              "10"
            ]
          },
          "metadata": {
            "tags": []
          },
          "execution_count": 309
        }
      ]
    },
    {
      "cell_type": "code",
      "metadata": {
        "colab": {
          "base_uri": "https://localhost:8080/"
        },
        "id": "6gsWsShV_XV0",
        "outputId": "03f17076-30fc-4e91-a88b-9ddde56bf0fa"
      },
      "source": [
        "topic_dateofpublish_tags[:5]"
      ],
      "execution_count": 310,
      "outputs": [
        {
          "output_type": "execute_result",
          "data": {
            "text/plain": [
              "[<span class=\"fl-post-feed-date\">\n",
              " \t\t\t\t\t\tMarch 23, 2021\t\t\t\t\t</span>, <span class=\"fl-post-feed-date\">\n",
              " \t\t\t\t\t\tMarch 22, 2021\t\t\t\t\t</span>, <span class=\"fl-post-feed-date\">\n",
              " \t\t\t\t\t\tMarch 8, 2021\t\t\t\t\t</span>, <span class=\"fl-post-feed-date\">\n",
              " \t\t\t\t\t\tMarch 4, 2021\t\t\t\t\t</span>, <span class=\"fl-post-feed-date\">\n",
              " \t\t\t\t\t\tMarch 3, 2021\t\t\t\t\t</span>]"
            ]
          },
          "metadata": {
            "tags": []
          },
          "execution_count": 310
        }
      ]
    },
    {
      "cell_type": "markdown",
      "metadata": {
        "id": "qyCQjh5LCFRA"
      },
      "source": [
        "Description of Topic."
      ]
    },
    {
      "cell_type": "code",
      "metadata": {
        "id": "FhGdmpr3LZq7"
      },
      "source": [
        "#Topic Description\n",
        "\n",
        "desc_selector =\"fl-post-feed-text\"\n",
        "topic_desc_tags = doc.find_all('div', {'class':desc_selector})"
      ],
      "execution_count": 311,
      "outputs": []
    },
    {
      "cell_type": "code",
      "metadata": {
        "colab": {
          "base_uri": "https://localhost:8080/"
        },
        "id": "UOUURoA3Lxz1",
        "outputId": "7bd4d4c1-0f17-40d9-c386-48335836a329"
      },
      "source": [
        "len(topic_desc_tags)"
      ],
      "execution_count": 312,
      "outputs": [
        {
          "output_type": "execute_result",
          "data": {
            "text/plain": [
              "10"
            ]
          },
          "metadata": {
            "tags": []
          },
          "execution_count": 312
        }
      ]
    },
    {
      "cell_type": "code",
      "metadata": {
        "colab": {
          "base_uri": "https://localhost:8080/"
        },
        "id": "MJaXsYQgLxw-",
        "outputId": "2658bde0-5148-4bec-d88b-1629fa69594d"
      },
      "source": [
        "topic_desc_tags[:5]"
      ],
      "execution_count": 313,
      "outputs": [
        {
          "output_type": "execute_result",
          "data": {
            "text/plain": [
              "[<div class=\"fl-post-feed-text\">\n",
              " <div class=\"fl-post-feed-content\" itemprop=\"text\">\n",
              " <p>Tuberculosis (TB) remains the third leading cause of death among communicable, maternal, neonatal, and nutritional diseases in Ethiopia, despite being preventable and treatable.1 While Ethiopia continues to make steady progress towards eliminating TB within its borders, lack of access to early diagnosis, treatment and HIV co-infections continue to pose significant challenges. Fraym technology mapped communities…</p>\n",
              " <a class=\"fl-post-feed-more\" href=\"https://fraym.io/tbethiopia/\" title=\"Understanding TB Risk in Pastoralist Communities\">Read More</a>\n",
              " </div>\n",
              " </div>, <div class=\"fl-post-feed-text\">\n",
              " <div class=\"fl-post-feed-content\" itemprop=\"text\">\n",
              " <p>Nepal has made great strides in improving access to water and sanitation, despite suffering a devastating earthquake and remaining one of the poorest nations in the world. Since 1990, access to improved water sources has increased from 46 to 95 percent. In reality, however, only 25% of the country’s water supply is reported to be…</p>\n",
              " <a class=\"fl-post-feed-more\" href=\"https://fraym.io/nepalwash/\" title=\"Expanding Access to Water Where it Matters Most: The Impact of Climate Change on WASH in Nepal\">Read More</a>\n",
              " </div>\n",
              " </div>, <div class=\"fl-post-feed-text\">\n",
              " <div class=\"fl-post-feed-content\" itemprop=\"text\">\n",
              " <p>Machine learning delivers long-desired insights WASHINGTON, March 8, 2021 /PRNewswire/ — In honor of International Women’s Day and the upcoming Gender Equality Forum, technology company Fraym is releasing findings from two initiatives that used cutting-edge data and AI/ML models to better understand complex issues central to gender equality. For both projects, one funded by a grant from the Bill &amp; Melinda…</p>\n",
              " <a class=\"fl-post-feed-more\" href=\"https://fraym.io/pr-genderequality/\" title=\"Leading Global Organizations Invest in Community-Level Data to Advance Gender Equality\">Read More</a>\n",
              " </div>\n",
              " </div>, <div class=\"fl-post-feed-text\">\n",
              " <div class=\"fl-post-feed-content\" itemprop=\"text\">\n",
              " <p>Globally, there are more than 650 million women and girls that were wed as children. That’s an astonishingly big number. This means that they entered into a formal marriage or informal union before reaching the age of 18. Child marriage has a heartbreaking impact on girls’ ability to access health, education, and economic opportunities, and…</p>\n",
              " <a class=\"fl-post-feed-more\" href=\"https://fraym.io/childmarriage/\" title=\"Fighting for a Future Free of Child Marriage – How Hyper-Local Data Can Help Drive Results\">Read More</a>\n",
              " </div>\n",
              " </div>, <div class=\"fl-post-feed-text\">\n",
              " <div class=\"fl-post-feed-content\" itemprop=\"text\">\n",
              " <p>In order to successfully measure the SDGs, we must take into account gender disparities by both generating more data and applying advanced analytical techniques to better understand them. At Fraym, we advocate for the use of hyperlocal data for decision-making because years of work has unearthed the stark spatial differences between communities. Our hypothesis is…</p>\n",
              " <a class=\"fl-post-feed-more\" href=\"https://fraym.io/facebookproject17/\" title=\"Fraym Partners with Facebook’s Project 17: Layering Sex-Disaggregated Data Sets Expose Gender Inequalities\">Read More</a>\n",
              " </div>\n",
              " </div>]"
            ]
          },
          "metadata": {
            "tags": []
          },
          "execution_count": 313
        }
      ]
    },
    {
      "cell_type": "markdown",
      "metadata": {
        "id": "UE0i2dZgMKDh"
      },
      "source": [
        "Topic URL.\n"
      ]
    },
    {
      "cell_type": "code",
      "metadata": {
        "colab": {
          "base_uri": "https://localhost:8080/"
        },
        "id": "MqP9GCPU_XSU",
        "outputId": "d9d7b775-6878-4391-f6b8-f8e7b0d08b22"
      },
      "source": [
        "#To get the tag corresponding to the first topic\n",
        "\n",
        "topic_title_tags[0]\n",
        "\n",
        "#To get the parent\n",
        "#topic_title_tag0.parent.parent\n"
      ],
      "execution_count": 314,
      "outputs": [
        {
          "output_type": "execute_result",
          "data": {
            "text/plain": [
              "<h2 class=\"fl-post-feed-title\" itemprop=\"headline\">\n",
              "<a href=\"https://fraym.io/tbethiopia/\" rel=\"bookmark\" title=\"Understanding TB Risk in Pastoralist Communities\">Understanding TB Risk in Pastoralist Communities</a>\n",
              "</h2>"
            ]
          },
          "metadata": {
            "tags": []
          },
          "execution_count": 314
        }
      ]
    },
    {
      "cell_type": "code",
      "metadata": {
        "colab": {
          "base_uri": "https://localhost:8080/"
        },
        "id": "XLjmM-O1qJ7k",
        "outputId": "961b0e3a-8e3e-4e79-fea7-d8d45e6f4395"
      },
      "source": [
        "#Get link of the first topic\n",
        "links = doc.find_all('a',{'rel':\"bookmark\"})\n",
        "link_urls = [i['href'] for i in links]\n",
        "\n",
        "#The URLs got duplicated. To remain with one per topic\n",
        "#Use this function\n",
        "from collections import OrderedDict\n",
        "\n",
        "def duplicates(link_urls):\n",
        "    return list(OrderedDict.fromkeys(link_urls))\n",
        "\n",
        "topic_urls_tags = duplicates(link_urls)\n",
        "len(topic_urls_tags)"
      ],
      "execution_count": 315,
      "outputs": [
        {
          "output_type": "execute_result",
          "data": {
            "text/plain": [
              "10"
            ]
          },
          "metadata": {
            "tags": []
          },
          "execution_count": 315
        }
      ]
    },
    {
      "cell_type": "code",
      "metadata": {
        "colab": {
          "base_uri": "https://localhost:8080/",
          "height": 35
        },
        "id": "RSf3KeD2f-kk",
        "outputId": "550558ca-c553-4c58-fa3b-0c39c8f1d702"
      },
      "source": [
        "topic_urls_tags[0]"
      ],
      "execution_count": 316,
      "outputs": [
        {
          "output_type": "execute_result",
          "data": {
            "application/vnd.google.colaboratory.intrinsic+json": {
              "type": "string"
            },
            "text/plain": [
              "'https://fraym.io/tbethiopia/'"
            ]
          },
          "metadata": {
            "tags": []
          },
          "execution_count": 316
        }
      ]
    },
    {
      "cell_type": "markdown",
      "metadata": {
        "id": "NMDCaqmAsC2y"
      },
      "source": [
        "Organizing Scraped Information."
      ]
    },
    {
      "cell_type": "code",
      "metadata": {
        "colab": {
          "base_uri": "https://localhost:8080/"
        },
        "id": "M3dlFIAKi9_Z",
        "outputId": "5f36067b-efea-4b25-85a9-08ef2bc314a5"
      },
      "source": [
        "#Getting jus the topics\n",
        "topic_titles = []\n",
        "\n",
        "for tag in topic_title_tags:\n",
        "  topic_titles.append(tag.text.strip())\n",
        "print(topic_titles) "
      ],
      "execution_count": 317,
      "outputs": [
        {
          "output_type": "stream",
          "text": [
            "['Understanding TB Risk in Pastoralist Communities', 'Expanding Access to Water Where it Matters Most: The Impact of Climate Change on WASH in Nepal', 'Leading Global Organizations Invest in Community-Level Data to Advance Gender Equality', 'Fighting for a Future Free of Child Marriage – How Hyper-Local Data Can Help Drive Results', 'Fraym Partners with Facebook’s Project 17: Layering Sex-Disaggregated Data Sets Expose Gender Inequalities', 'M&E Series Part 3 of 3: ML-Powered Spatial Data Transforms Your Adaptative Management Techniques', 'International Day of Zero Tolerance for FGM: Applying ML data to target programs', 'M&E Series Part 2 of 3: Adding New Dimensions to Geospatial Impact Evaluations', 'Machine-learning data helps global development organizations monitor & evaluate programs', 'M&E Series Part 1 of 3: Geospatial Data for Baseline Assessments and Contextual Analysis']\n"
          ],
          "name": "stdout"
        }
      ]
    },
    {
      "cell_type": "code",
      "metadata": {
        "id": "lX0CltdgmLnB"
      },
      "source": [
        "# for tag in topic_title_tags:\n",
        "#   print(tag.text)"
      ],
      "execution_count": 318,
      "outputs": []
    },
    {
      "cell_type": "code",
      "metadata": {
        "colab": {
          "base_uri": "https://localhost:8080/"
        },
        "id": "v0A6BvSCsUME",
        "outputId": "8e4f8916-0163-4b3f-867e-2a4ac1006942"
      },
      "source": [
        "#Dates\n",
        "topic_publishing_dates = []\n",
        "\n",
        "for tag in topic_dateofpublish_tags:\n",
        "  topic_publishing_dates.append(tag.text.strip())\n",
        "\n",
        "topic_publishing_dates"
      ],
      "execution_count": 319,
      "outputs": [
        {
          "output_type": "execute_result",
          "data": {
            "text/plain": [
              "['March 23, 2021',\n",
              " 'March 22, 2021',\n",
              " 'March 8, 2021',\n",
              " 'March 4, 2021',\n",
              " 'March 3, 2021',\n",
              " 'February 16, 2021',\n",
              " 'February 10, 2021',\n",
              " 'January 12, 2021',\n",
              " 'December 16, 2020',\n",
              " 'December 8, 2020']"
            ]
          },
          "metadata": {
            "tags": []
          },
          "execution_count": 319
        }
      ]
    },
    {
      "cell_type": "code",
      "metadata": {
        "colab": {
          "base_uri": "https://localhost:8080/",
          "height": 83
        },
        "id": "qzMUEAzEi-kC",
        "outputId": "46a6586f-824c-4d63-aa0d-13933892af2d"
      },
      "source": [
        "#Descriptions\n",
        "topic_descs = []\n",
        "for tag in topic_desc_tags:\n",
        "  topic_descs.append(tag.text.strip())\n",
        "\n",
        "topic_descs[0]\n"
      ],
      "execution_count": 320,
      "outputs": [
        {
          "output_type": "execute_result",
          "data": {
            "application/vnd.google.colaboratory.intrinsic+json": {
              "type": "string"
            },
            "text/plain": [
              "'Tuberculosis (TB) remains the third leading cause of death among communicable, maternal, neonatal, and nutritional diseases in Ethiopia, despite being preventable and treatable.1 While Ethiopia continues to make steady progress towards eliminating TB within its borders, lack of access to early diagnosis, treatment and HIV co-infections continue to pose significant challenges. Fraym technology mapped communities…\\nRead More'"
            ]
          },
          "metadata": {
            "tags": []
          },
          "execution_count": 320
        }
      ]
    },
    {
      "cell_type": "code",
      "metadata": {
        "colab": {
          "base_uri": "https://localhost:8080/"
        },
        "id": "QjDAK1N3i-XL",
        "outputId": "bf4e88ca-1106-4a98-a5fb-057bb2c2093c"
      },
      "source": [
        "#Urls\n",
        "topic_urls = []\n",
        "for tag in topic_urls_tags:\n",
        "  topic_urls.append(tag)\n",
        "\n",
        "topic_urls"
      ],
      "execution_count": 321,
      "outputs": [
        {
          "output_type": "execute_result",
          "data": {
            "text/plain": [
              "['https://fraym.io/tbethiopia/',\n",
              " 'https://fraym.io/nepalwash/',\n",
              " 'https://fraym.io/pr-genderequality/',\n",
              " 'https://fraym.io/childmarriage/',\n",
              " 'https://fraym.io/facebookproject17/',\n",
              " 'https://fraym.io/meadaptivemanagement_part3/',\n",
              " 'https://fraym.io/fgm-mali/',\n",
              " 'https://fraym.io/meevauluation_part2/',\n",
              " 'https://fraym.io/pr-mande/',\n",
              " 'https://fraym.io/mebaseline_part1/']"
            ]
          },
          "metadata": {
            "tags": []
          },
          "execution_count": 321
        }
      ]
    },
    {
      "cell_type": "code",
      "metadata": {
        "colab": {
          "base_uri": "https://localhost:8080/"
        },
        "id": "zcqDgBE9i-UB",
        "outputId": "a2f93a39-ffdb-48f5-edb8-ef8c625a056d"
      },
      "source": [
        "#create my data frame from the scraped data\n",
        "topic_dict = {\n",
        "    'Topic ttitle': topic_titles,\n",
        "    'Date of Publishing':topic_publishing_dates,\n",
        "    'URL': topic_urls,\n",
        "    'Topic Description':topic_descs\n",
        "}\n",
        "\n",
        "topic_df = pd.DataFrame(topic_dict)\n",
        "topic_df.shape"
      ],
      "execution_count": 322,
      "outputs": [
        {
          "output_type": "execute_result",
          "data": {
            "text/plain": [
              "(10, 4)"
            ]
          },
          "metadata": {
            "tags": []
          },
          "execution_count": 322
        }
      ]
    },
    {
      "cell_type": "markdown",
      "metadata": {
        "id": "1tDrWNX_tl4g"
      },
      "source": [
        "### Creating a CSV file for the scraped Information."
      ]
    },
    {
      "cell_type": "code",
      "metadata": {
        "id": "hFnUM33zi-NR"
      },
      "source": [
        "#save to csv\n",
        "topic_df.to_csv('Latest_Analysis_topics_by_Fraym', index=None)"
      ],
      "execution_count": 323,
      "outputs": []
    },
    {
      "cell_type": "code",
      "metadata": {
        "id": "l2wzNltpi-JV"
      },
      "source": [
        ""
      ],
      "execution_count": 323,
      "outputs": []
    },
    {
      "cell_type": "code",
      "metadata": {
        "id": "eZDVgH1ki-En"
      },
      "source": [
        ""
      ],
      "execution_count": 323,
      "outputs": []
    }
  ]
}